{
 "cells": [
  {
   "cell_type": "code",
   "execution_count": 15,
   "id": "d3c17dc4",
   "metadata": {},
   "outputs": [],
   "source": [
    "import numpy as np\n",
    "import ome_zarr.io\n",
    "import ome_zarr.writer\n",
    "from dexp.datasets import ZDataset\n",
    "import zarr\n",
    "import napari"
   ]
  },
  {
   "cell_type": "code",
   "execution_count": 2,
   "id": "242a78bc",
   "metadata": {},
   "outputs": [
    {
     "name": "stdout",
     "output_type": "stream",
     "text": [
      "├ Configured the number of threads used by BLOSC: 8\n",
      "├ Opening existing Zarr storage: '/media/brandon/Data1/Brandon/fly_immune/Lightsheet_Z1/2022_02_24_uas-mcd8-gfp_r4-gal4_x_dipt_dtom2/ecoli_hs_gfp/larvae_4/crop.zarr' with read/write mode: 'r' and store type: 'None'\n",
      "├ Opening as Directory store\n",
      "├ Opening with mode: r\n",
      "├ Exploring Zarr hierarchy...\n",
      "├ Found channel: dpt-red\n",
      "├ Found array: dpt-red\n",
      "├ Found array: dpt-red_projection_0\n",
      "├ Found array: dpt-red_projection_1\n",
      "├ Found array: dpt-red_projection_2\n",
      "├ Found channel: mem-green\n",
      "├ Found array: mem-green\n",
      "├ Found array: mem-green_projection_0\n",
      "├ Found array: mem-green_projection_1\n",
      "├ Found array: mem-green_projection_2\n"
     ]
    }
   ],
   "source": [
    "ds = ZDataset(r'/media/brandon/Data1/Brandon/fly_immune/Lightsheet_Z1/2022_02_24_uas-mcd8-gfp_r4-gal4_x_dipt_dtom2/ecoli_hs_gfp/larvae_4/crop.zarr', 'r')"
   ]
  },
  {
   "cell_type": "code",
   "execution_count": 31,
   "id": "61e56752",
   "metadata": {},
   "outputs": [],
   "source": [
    "path_to_ome_zarr = r'/media/brandon/Data1/Brandon/fly_immune/Lightsheet_Z1/2022_02_24_uas-mcd8-gfp_r4-gal4_x_dipt_dtom2/ecoli_hs_gfp/larvae_4/mem.ome.zarr'\n",
    "loc = ome_zarr.io.parse_url(path_to_ome_zarr, mode=\"w\")  \n",
    "\n",
    "# create a zarr root level group at the file path\n",
    "group = zarr.group(loc.store)\n",
    "\n",
    "    "
   ]
  },
  {
   "cell_type": "code",
   "execution_count": 32,
   "id": "82773dff",
   "metadata": {},
   "outputs": [],
   "source": [
    "# test with brute force numpy\n",
    "ds_shape = ds.get_array('dpt-red').shape\n",
    "ymax = 2000\n",
    "ds_shape = (ds_shape[0], 1,) +  (ds_shape[1],) + (ymax,) + (ds_shape[3:])\n",
    "\n",
    "big_arr = np.zeros(ds_shape)\n",
    "channel_name = 'mem-green'\n",
    "big_arr[0, 0] = ds.get_array(channel_name)[0, :, :2000, :]\n",
    "# channel_names = ['dpt-red', 'mem-green']\n",
    "# for c in range(big_arr.shape[1]):\n",
    "#     big_arr[0,c] = ds.get_array(channel_names[c])[0, :, :2000, :]"
   ]
  },
  {
   "cell_type": "code",
   "execution_count": 33,
   "id": "76b3902e",
   "metadata": {},
   "outputs": [],
   "source": [
    "scaler = ome_zarr.scale.Scaler()\n",
    "ome_zarr.writer.write_image(big_arr, group=group, scaler=scaler)"
   ]
  },
  {
   "cell_type": "code",
   "execution_count": 40,
   "id": "59a87742",
   "metadata": {},
   "outputs": [
    {
     "data": {
      "text/plain": [
       "[<Image layer 'mem.ome' at 0x7f7992391ee0>]"
      ]
     },
     "execution_count": 40,
     "metadata": {},
     "output_type": "execute_result"
    }
   ],
   "source": [
    "viewer = napari.Viewer()\n",
    "viewer.open(path_to_ome_zarr)\n"
   ]
  },
  {
   "cell_type": "code",
   "execution_count": 41,
   "id": "4084c8f6",
   "metadata": {},
   "outputs": [
    {
     "name": "stderr",
     "output_type": "stream",
     "text": [
      "/home/brandon/anaconda3/envs/ome_zarr/lib/python3.9/site-packages/napari/layers/image/image.py:676: UserWarning: Multiscale rendering is only supported in 2D. In 3D, only the lowest resolution scale is displayed\n",
      "  warnings.warn(\n"
     ]
    }
   ],
   "source": [
    "viewer.layers[0].scale = [1, 1, 2, 0.304, 0.304]"
   ]
  },
  {
   "cell_type": "code",
   "execution_count": 38,
   "id": "63d7aa29",
   "metadata": {},
   "outputs": [
    {
     "data": {
      "text/plain": [
       "array([1.   , 1.   , 6.579, 1.   , 1.   ])"
      ]
     },
     "execution_count": 38,
     "metadata": {},
     "output_type": "execute_result"
    }
   ],
   "source": [
    "viewer.layers[0].scale"
   ]
  },
  {
   "cell_type": "markdown",
   "id": "a60ad924",
   "metadata": {},
   "source": [
    "Based on Jordao's code, it looks like all napari-ome-zarr needs to read a pyramid file is a zarr with arrays named \"0\", \"1\", etc, for each of the downsampled images. His functions use  tiled, cupy-based pyramid computation on a slice by slice basis."
   ]
  },
  {
   "cell_type": "code",
   "execution_count": null,
   "id": "e16d5ae9",
   "metadata": {},
   "outputs": [],
   "source": []
  }
 ],
 "metadata": {
  "kernelspec": {
   "display_name": "Python (ome_zarr)",
   "language": "python",
   "name": "ome_zarr"
  },
  "language_info": {
   "codemirror_mode": {
    "name": "ipython",
    "version": 3
   },
   "file_extension": ".py",
   "mimetype": "text/x-python",
   "name": "python",
   "nbconvert_exporter": "python",
   "pygments_lexer": "ipython3",
   "version": "3.9.11"
  }
 },
 "nbformat": 4,
 "nbformat_minor": 5
}
