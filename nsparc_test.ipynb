{
 "cells": [
  {
   "cell_type": "code",
   "execution_count": 1,
   "id": "2c499c51",
   "metadata": {},
   "outputs": [
    {
     "name": "stderr",
     "output_type": "stream",
     "text": [
      "/home/brandon/anaconda3/envs/nsparc/lib/python3.13/site-packages/napari_animation/easing.py:269: FutureWarning: functools.partial will be a method descriptor in future Python versions; wrap it in enum.member() if you want to preserve the old behavior\n",
      "  LINEAR = partial(linear_interpolation)\n",
      "/home/brandon/anaconda3/envs/nsparc/lib/python3.13/site-packages/napari_animation/easing.py:270: FutureWarning: functools.partial will be a method descriptor in future Python versions; wrap it in enum.member() if you want to preserve the old behavior\n",
      "  QUADRATIC = partial(quadratic_ease_in_out)\n",
      "/home/brandon/anaconda3/envs/nsparc/lib/python3.13/site-packages/napari_animation/easing.py:271: FutureWarning: functools.partial will be a method descriptor in future Python versions; wrap it in enum.member() if you want to preserve the old behavior\n",
      "  CUBIC = partial(cubic_ease_in_out)\n",
      "/home/brandon/anaconda3/envs/nsparc/lib/python3.13/site-packages/napari_animation/easing.py:272: FutureWarning: functools.partial will be a method descriptor in future Python versions; wrap it in enum.member() if you want to preserve the old behavior\n",
      "  QUINTIC = partial(quintic_ease_in_out)\n",
      "/home/brandon/anaconda3/envs/nsparc/lib/python3.13/site-packages/napari_animation/easing.py:273: FutureWarning: functools.partial will be a method descriptor in future Python versions; wrap it in enum.member() if you want to preserve the old behavior\n",
      "  SINE = partial(sine_ease_in_out)\n",
      "/home/brandon/anaconda3/envs/nsparc/lib/python3.13/site-packages/napari_animation/easing.py:274: FutureWarning: functools.partial will be a method descriptor in future Python versions; wrap it in enum.member() if you want to preserve the old behavior\n",
      "  CIRCULAR = partial(circular_ease_in_out)\n",
      "/home/brandon/anaconda3/envs/nsparc/lib/python3.13/site-packages/napari_animation/easing.py:275: FutureWarning: functools.partial will be a method descriptor in future Python versions; wrap it in enum.member() if you want to preserve the old behavior\n",
      "  EXPONENTIAL = partial(exponential_ease_in_out)\n",
      "/home/brandon/anaconda3/envs/nsparc/lib/python3.13/site-packages/napari_animation/easing.py:276: FutureWarning: functools.partial will be a method descriptor in future Python versions; wrap it in enum.member() if you want to preserve the old behavior\n",
      "  ELASTIC = partial(elastic_ease_in_out)\n",
      "/home/brandon/anaconda3/envs/nsparc/lib/python3.13/site-packages/napari_animation/easing.py:277: FutureWarning: functools.partial will be a method descriptor in future Python versions; wrap it in enum.member() if you want to preserve the old behavior\n",
      "  BACK = partial(back_ease_in_out)\n",
      "/home/brandon/anaconda3/envs/nsparc/lib/python3.13/site-packages/napari_animation/easing.py:278: FutureWarning: functools.partial will be a method descriptor in future Python versions; wrap it in enum.member() if you want to preserve the old behavior\n",
      "  BOUNCE = partial(bounce_ease_in_out)\n",
      "/home/brandon/anaconda3/envs/nsparc/lib/python3.13/site-packages/napari_animation/interpolation/interpolation_constants.py:21: FutureWarning: functools.partial will be a method descriptor in future Python versions; wrap it in enum.member() if you want to preserve the old behavior\n",
      "  DEFAULT = partial(_default_interpolation)\n",
      "/home/brandon/anaconda3/envs/nsparc/lib/python3.13/site-packages/napari_animation/interpolation/interpolation_constants.py:22: FutureWarning: functools.partial will be a method descriptor in future Python versions; wrap it in enum.member() if you want to preserve the old behavior\n",
      "  LOG = partial(_interpolate_log)\n",
      "/home/brandon/anaconda3/envs/nsparc/lib/python3.13/site-packages/napari_animation/interpolation/interpolation_constants.py:23: FutureWarning: functools.partial will be a method descriptor in future Python versions; wrap it in enum.member() if you want to preserve the old behavior\n",
      "  SLERP = partial(_slerp)\n",
      "/home/brandon/anaconda3/envs/nsparc/lib/python3.13/site-packages/napari_animation/interpolation/interpolation_constants.py:24: FutureWarning: functools.partial will be a method descriptor in future Python versions; wrap it in enum.member() if you want to preserve the old behavior\n",
      "  BOOL = partial(_interpolate_bool)\n"
     ]
    }
   ],
   "source": [
    "import napari\n",
    "import zarr\n",
    "import dask.array as da\n",
    "from PIL import Image\n",
    "from pathlib import Path\n",
    "from dask.diagnostics import ProgressBar\n",
    "import numpy as np\n",
    "import matplotlib.pyplot as plt\n",
    "from napari_animation import Animation\n",
    "from glob import glob\n",
    "from bioio import BioImage"
   ]
  },
  {
   "cell_type": "code",
   "execution_count": 24,
   "id": "d840356b",
   "metadata": {},
   "outputs": [],
   "source": [
    "path_to_nd2 = r'/media/brandon/Data2/Brandon/fly_immune/NSPARC/2025_04_11-hml-gfp_nsparc_test/larva_2/scan_1_resonant/scan003.nd2'  \n"
   ]
  },
  {
   "cell_type": "code",
   "execution_count": 25,
   "id": "a1e063f0",
   "metadata": {},
   "outputs": [],
   "source": [
    "#im = AICSImage(path_to_nd2, reader=readers.bioformats_reader.BioformatsReader)\n",
    "im = BioImage(path_to_nd2)"
   ]
  },
  {
   "cell_type": "code",
   "execution_count": 26,
   "id": "7ac3ec7f",
   "metadata": {},
   "outputs": [
    {
     "data": {
      "text/plain": [
       "(1, 1, 31, 1024, 2048)"
      ]
     },
     "execution_count": 26,
     "metadata": {},
     "output_type": "execute_result"
    }
   ],
   "source": [
    "im.data.shape"
   ]
  },
  {
   "cell_type": "code",
   "execution_count": 27,
   "id": "aea484fc-c072-4859-b766-a46974bcfe3c",
   "metadata": {},
   "outputs": [],
   "source": [
    "scale = (1, 1, im.scale.Z, im.scale.Y, im.scale.X)"
   ]
  },
  {
   "cell_type": "code",
   "execution_count": 28,
   "id": "1bf347ce-0bc9-4f95-a3fe-15ba45986b03",
   "metadata": {},
   "outputs": [
    {
     "data": {
      "text/plain": [
       "(1, 1, 10.0, 2.157918643757774, 2.157918643757774)"
      ]
     },
     "execution_count": 28,
     "metadata": {},
     "output_type": "execute_result"
    }
   ],
   "source": [
    "scale"
   ]
  },
  {
   "cell_type": "code",
   "execution_count": 29,
   "id": "2429f467-1f06-40ab-a5b5-fa15483933f7",
   "metadata": {},
   "outputs": [],
   "source": [
    "viewer = napari.Viewer()\n",
    "viewer.add_image(im.data)\n",
    "for layer in viewer.layers:\n",
    "    layer.scale = scale"
   ]
  },
  {
   "cell_type": "code",
   "execution_count": 23,
   "id": "acc3d797",
   "metadata": {},
   "outputs": [],
   "source": [
    "viewer.camera.angles = (90.0, 0.0, 90.0)\n"
   ]
  },
  {
   "cell_type": "code",
   "execution_count": 24,
   "id": "d3a3d7f8",
   "metadata": {},
   "outputs": [
    {
     "name": "stdout",
     "output_type": "stream",
     "text": [
      "Rendering frames...\n"
     ]
    },
    {
     "name": "stderr",
     "output_type": "stream",
     "text": [
      "100%|███████████████████████████████████████████████████████████████████████████████████████████████████████████████| 401/401 [01:10<00:00,  5.72it/s]\n"
     ]
    }
   ],
   "source": [
    "animation = Animation(viewer)\n",
    "\n",
    "num_steps = 100\n",
    "viewer.dims.ndisplay = 3\n",
    "viewer.camera.angles = (90.0, 0.0, 90.0)\n",
    "animation.capture_keyframe()\n",
    "viewer.camera.angles = (90.0, 90.0, 90.0)\n",
    "animation.capture_keyframe(steps=num_steps)\n",
    "viewer.camera.angles = (90.0, 180.0, 90.0)\n",
    "animation.capture_keyframe(steps=num_steps)\n",
    "viewer.camera.angles = (90.0, 270.0, 90.0)\n",
    "animation.capture_keyframe(steps=num_steps)\n",
    "viewer.camera.angles = (90.0, 0.0, 90.0)\n",
    "animation.capture_keyframe(steps=num_steps)\n",
    "animation.animate(Path(path_to_ome_zarr).parent.parent / 'render_sb_magma')\n",
    "\n"
   ]
  }
 ],
 "metadata": {
  "kernelspec": {
   "display_name": "Python (nsparc)",
   "language": "python",
   "name": "nsparc"
  },
  "language_info": {
   "codemirror_mode": {
    "name": "ipython",
    "version": 3
   },
   "file_extension": ".py",
   "mimetype": "text/x-python",
   "name": "python",
   "nbconvert_exporter": "python",
   "pygments_lexer": "ipython3",
   "version": "3.13.2"
  }
 },
 "nbformat": 4,
 "nbformat_minor": 5
}
