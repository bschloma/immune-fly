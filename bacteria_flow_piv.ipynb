{
 "cells": [
  {
   "cell_type": "code",
   "execution_count": 86,
   "id": "7475d607",
   "metadata": {},
   "outputs": [],
   "source": [
    "import numpy as np\n",
    "import matplotlib.pyplot as plt\n",
    "from openpiv import tools, pyprocess, validation, filters, scaling \n",
    "from skimage.io import imread\n",
    "from skimage.filters import difference_of_gaussians\n",
    "from glob import glob\n",
    "from tqdm import tqdm"
   ]
  },
  {
   "cell_type": "code",
   "execution_count": 17,
   "id": "caf6e24f",
   "metadata": {},
   "outputs": [],
   "source": [
    "%matplotlib qt"
   ]
  },
  {
   "cell_type": "code",
   "execution_count": 77,
   "id": "9de6b645",
   "metadata": {},
   "outputs": [],
   "source": [
    "movie_dir = r'/media/brandon/Data2/Brandon/fly_immune/Lightsheet_Z1/2024_05_30-dpt-gfp_r4-gal4_ecoli-hs-dtom_4hrs_flow_field/larva_1/movie_9_dual_tifs_cropped_culled'\n",
    "name_str = '*.tif'"
   ]
  },
  {
   "cell_type": "code",
   "execution_count": 78,
   "id": "123d4c6f",
   "metadata": {},
   "outputs": [],
   "source": [
    "frame_a = imread(movie_dir + '/im_056.tif')\n",
    "frame_b = imread(movie_dir + '/im_057.tif')\n",
    "\n",
    "#frame_a = (2 ** 16 - 1) * difference_of_gaussians(frame_a, low_sigma=1)\n",
    "#frame_b = (2 ** 16 - 1) * difference_of_gaussians(frame_b, low_sigma=1)\n",
    "\n",
    "# plt.figure()\n",
    "# plt.imshow(frame_a)"
   ]
  },
  {
   "cell_type": "code",
   "execution_count": 108,
   "id": "3e79b0d4",
   "metadata": {},
   "outputs": [],
   "source": [
    "winsize = 16 # pixels, interrogation window size in frame A\n",
    "searchsize = 20  # pixels, search in image B\n",
    "overlap = 4 # pixels, 50% overlap\n",
    "dt = 0.03 # sec, time interval between pulses\n",
    "\n",
    "\n",
    "u0, v0, sig2noise = pyprocess.extended_search_area_piv(frame_a.astype(np.int32), \n",
    "                                                       frame_b.astype(np.int32), \n",
    "                                                       window_size=winsize, \n",
    "                                                       overlap=overlap, \n",
    "                                                       dt=dt, \n",
    "                                                       search_area_size=searchsize, \n",
    "                                                       sig2noise_method='peak2peak')\n",
    "\n",
    "\n",
    "\n",
    "flags = validation.sig2noise_val( sig2noise, \n",
    "                                 threshold = 1.15 )\n",
    "\n",
    "thresh = 80\n",
    "#flags = validation.global_val(u0, v0, u_thresholds=[-thresh, thresh], v_thresholds=[-thresh, thresh])\n",
    "\n",
    "\n",
    "x, y = pyprocess.get_coordinates( image_size=frame_a.shape, \n",
    "                                 search_area_size=searchsize, \n",
    "                                 overlap=overlap )\n",
    "\n",
    "u2, v2 = filters.replace_outliers( u0, v0, \n",
    "                                   flags,\n",
    "                                   method='localmean', \n",
    "                                   max_iter=3, \n",
    "                                   kernel_size=3)"
   ]
  },
  {
   "cell_type": "code",
   "execution_count": 109,
   "id": "357333f7",
   "metadata": {},
   "outputs": [
    {
     "data": {
      "text/plain": [
       "<matplotlib.quiver.Quiver at 0x7fa53df58820>"
      ]
     },
     "execution_count": 109,
     "metadata": {},
     "output_type": "execute_result"
    }
   ],
   "source": [
    "plt.figure()\n",
    "plt.quiver(x, y, u2, v2)"
   ]
  },
  {
   "cell_type": "code",
   "execution_count": 85,
   "id": "8de15014",
   "metadata": {},
   "outputs": [],
   "source": [
    "def get_vector_field(frame_a, frame_b):\n",
    "    winsize = 32 # pixels, interrogation window size in frame A\n",
    "    searchsize = 38  # pixels, search in image B\n",
    "    overlap = 16 # pixels, 50% overlap\n",
    "    dt = 0.03 # sec, time interval between pulses\n",
    "\n",
    "\n",
    "    u0, v0, sig2noise = pyprocess.extended_search_area_piv(frame_a.astype(np.int32), \n",
    "                                                           frame_b.astype(np.int32), \n",
    "                                                           window_size=winsize, \n",
    "                                                           overlap=overlap, \n",
    "                                                           dt=dt, \n",
    "                                                           search_area_size=searchsize, \n",
    "                                                           sig2noise_method='peak2peak')\n",
    "\n",
    "\n",
    "\n",
    "    flags = validation.sig2noise_val( sig2noise, \n",
    "                                     threshold = 1.05 )\n",
    "\n",
    "\n",
    "   \n",
    "\n",
    "    u2, v2 = filters.replace_outliers( u0, v0, \n",
    "                                       flags,\n",
    "                                       method='localmean', \n",
    "                                       max_iter=3, \n",
    "                                       kernel_size=3)\n",
    "    \n",
    "    return u2, v2"
   ]
  },
  {
   "cell_type": "code",
   "execution_count": 87,
   "id": "c83294f8",
   "metadata": {},
   "outputs": [
    {
     "name": "stderr",
     "output_type": "stream",
     "text": [
      "100%|█████████████████████████████████████████| 200/200 [01:38<00:00,  2.03it/s]\n"
     ]
    }
   ],
   "source": [
    "files = sorted(glob(movie_dir + '/' + name_str))\n",
    "for i in tqdm(range(len(files) - 1)):\n",
    "    frame_a = imread(files[i])\n",
    "    frame_b = imread(files[i+1])\n",
    "    u, v = get_vector_field(frame_a, frame_b)\n",
    "    if i == 0:\n",
    "        u_arr = np.zeros(((len(files) - 1), u.shape[0], u.shape[1]))\n",
    "        v_arr = np.zeros(((len(files) - 1), u.shape[0], u.shape[1]))\n",
    "    u_arr[i] = u\n",
    "    v_arr[i] = v\n",
    "    \n",
    "x, y = pyprocess.get_coordinates( image_size=frame_a.shape, \n",
    "                                 search_area_size=38, \n",
    "                                 overlap=16 )"
   ]
  },
  {
   "cell_type": "code",
   "execution_count": 98,
   "id": "fecbe6f0",
   "metadata": {},
   "outputs": [
    {
     "data": {
      "text/plain": [
       "<matplotlib.colorbar.Colorbar at 0x7fa53fd08f10>"
      ]
     },
     "execution_count": 98,
     "metadata": {},
     "output_type": "execute_result"
    }
   ],
   "source": [
    "mean_u = np.mean(u_arr, axis=0)\n",
    "mean_v = np.mean(v_arr, axis=0)\n",
    "std_u = np.std(u_arr, axis=0)\n",
    "std_v = np.std(v_arr, axis=0)\n",
    "\n",
    "#thresh = 0.1\n",
    "#mean_u[std_u / mean_u > thresh] = np.nan\n",
    "#mean_v[std_v / mean_v > thresh] = np.nan\n",
    "\n",
    "plt.figure()\n",
    "plt.quiver(x, y, mean_u, mean_v)\n",
    "\n",
    "plt.figure()\n",
    "plt.pcolor(x, y, np.log10(np.sqrt(std_u ** 2 / mean_u ** 2 + std_v ** 2 / mean_v ** 2)))\n",
    "plt.colorbar()"
   ]
  },
  {
   "cell_type": "code",
   "execution_count": 99,
   "id": "977e0993",
   "metadata": {},
   "outputs": [
    {
     "data": {
      "text/plain": [
       "<matplotlib.quiver.Quiver at 0x7fa53f4cae20>"
      ]
     },
     "execution_count": 99,
     "metadata": {},
     "output_type": "execute_result"
    }
   ],
   "source": [
    "plt.figure()\n",
    "plt.quiver(x, y, u_arr[0], v_arr[0])\n",
    "\n",
    "plt.figure()\n",
    "plt.quiver(x, y, u_arr[1], v_arr[1])"
   ]
  },
  {
   "cell_type": "code",
   "execution_count": 101,
   "id": "d2e3bb6d",
   "metadata": {},
   "outputs": [
    {
     "data": {
      "text/plain": [
       "<matplotlib.quiver.Quiver at 0x7fa53edef550>"
      ]
     },
     "execution_count": 101,
     "metadata": {},
     "output_type": "execute_result"
    }
   ],
   "source": [
    "median_u = np.median(u_arr[:80], axis=0)\n",
    "median_v = np.median(v_arr[:80], axis=0)\n",
    "\n",
    "plt.figure()\n",
    "plt.quiver(x, y, median_u, median_v)"
   ]
  },
  {
   "cell_type": "code",
   "execution_count": null,
   "id": "63029834",
   "metadata": {},
   "outputs": [],
   "source": []
  }
 ],
 "metadata": {
  "kernelspec": {
   "display_name": "Python (piv)",
   "language": "python",
   "name": "piv"
  },
  "language_info": {
   "codemirror_mode": {
    "name": "ipython",
    "version": 3
   },
   "file_extension": ".py",
   "mimetype": "text/x-python",
   "name": "python",
   "nbconvert_exporter": "python",
   "pygments_lexer": "ipython3",
   "version": "3.9.7"
  }
 },
 "nbformat": 4,
 "nbformat_minor": 5
}
