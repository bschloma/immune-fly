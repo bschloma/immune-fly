{
 "cells": [
  {
   "cell_type": "code",
   "execution_count": 1,
   "id": "c1189324-f72a-49d4-89c6-36c020cff8f6",
   "metadata": {},
   "outputs": [],
   "source": [
    "import numpy as np\n",
    "import matplotlib.pyplot as plt\n",
    "import napari\n",
    "import pandas as pd\n",
    "from anndata import AnnData, read_h5ad\n",
    "import scanpy as sc\n"
   ]
  },
  {
   "cell_type": "code",
   "execution_count": 2,
   "id": "b85ea010-9b75-4571-8e74-db26441ebb0f",
   "metadata": {},
   "outputs": [],
   "source": [
    "#%matplotlib qt\n",
    "%matplotlib inline"
   ]
  },
  {
   "cell_type": "code",
   "execution_count": 3,
   "id": "1713bd5a-cf0c-44e8-bbd9-8535d2f20f61",
   "metadata": {},
   "outputs": [],
   "source": [
    "file_path = r'/media/brandon/Data2/Brandon/fly_immune/Flysta3d/L2_a_count_normal_stereoseq.h5ad'\n",
    "adata = read_h5ad(file_path)"
   ]
  },
  {
   "cell_type": "code",
   "execution_count": null,
   "id": "a33c3b4b-1e1c-4a02-bd00-b50130d187e5",
   "metadata": {},
   "outputs": [],
   "source": []
  }
 ],
 "metadata": {
  "kernelspec": {
   "display_name": "Python (scanpy)",
   "language": "python",
   "name": "scanpy"
  },
  "language_info": {
   "codemirror_mode": {
    "name": "ipython",
    "version": 3
   },
   "file_extension": ".py",
   "mimetype": "text/x-python",
   "name": "python",
   "nbconvert_exporter": "python",
   "pygments_lexer": "ipython3",
   "version": "3.12.3"
  }
 },
 "nbformat": 4,
 "nbformat_minor": 5
}
