{
 "cells": [
  {
   "cell_type": "code",
   "execution_count": 56,
   "id": "b63ad816",
   "metadata": {},
   "outputs": [],
   "source": [
    "import numpy as np\n",
    "import zarr\n",
    "import matplotlib.pyplot as plt\n",
    "import napari"
   ]
  },
  {
   "cell_type": "code",
   "execution_count": 2,
   "id": "e118b897",
   "metadata": {},
   "outputs": [],
   "source": [
    "%matplotlib qt"
   ]
  },
  {
   "cell_type": "code",
   "execution_count": 11,
   "id": "3e6e2f71",
   "metadata": {},
   "outputs": [],
   "source": [
    "# load in a test membrane image. low res\n",
    "im = np.array(zarr.open(r'/media/brandon/Data1/Brandon/fly_immune/Lightsheet_Z1/2023_02_07_dpt-gfp_r4-gal4_uas-mcd8-mcherry_ecoli-hs-dtom_earlyL3_24hrs/larvae_1/crop.ome.zarr/4', 'r'))[0,1]"
   ]
  },
  {
   "cell_type": "code",
   "execution_count": 101,
   "id": "b18587e5",
   "metadata": {},
   "outputs": [],
   "source": [
    "thresh = 2000\n",
    "mask = im > thresh\n",
    "#mask = mask[:,200:400,:]"
   ]
  },
  {
   "cell_type": "code",
   "execution_count": 55,
   "id": "c1493ba6",
   "metadata": {},
   "outputs": [
    {
     "data": {
      "text/plain": [
       "<matplotlib.image.AxesImage at 0x7fc7bfdd5be0>"
      ]
     },
     "execution_count": 55,
     "metadata": {},
     "output_type": "execute_result"
    }
   ],
   "source": [
    "plt.figure()\n",
    "plt.imshow(mask[50])"
   ]
  },
  {
   "cell_type": "code",
   "execution_count": 102,
   "id": "3e237db2",
   "metadata": {},
   "outputs": [],
   "source": [
    "zgrid, ygrid, xgrid = np.indices(mask.shape)"
   ]
  },
  {
   "cell_type": "code",
   "execution_count": 104,
   "id": "518dd9b7",
   "metadata": {},
   "outputs": [],
   "source": [
    "z = zgrid[mask]\n",
    "y = ygrid[mask]\n",
    "x = xgrid[mask]"
   ]
  },
  {
   "cell_type": "code",
   "execution_count": 105,
   "id": "23840b27",
   "metadata": {},
   "outputs": [
    {
     "data": {
      "text/plain": [
       "(0.0, 3000.0)"
      ]
     },
     "execution_count": 105,
     "metadata": {},
     "output_type": "execute_result"
    }
   ],
   "source": [
    "random_indices = np.random.randint(len(z), size=4000)\n",
    "fig = plt.figure()\n",
    "ax = fig.add_subplot(projection='3d')\n",
    "ax.scatter(x[random_indices] * 0.3295 * 2**4, y[random_indices] * 0.3295 * 2**4, z[random_indices] * 2, 'ko', s=4)\n",
    "ax.axes.set_xlim3d(left=0, right=3000)\n",
    "ax.axes.set_ylim3d(bottom=0, top=3000) \n",
    "ax.axes.set_zlim3d(bottom=0, top=3000) \n"
   ]
  },
  {
   "cell_type": "code",
   "execution_count": 52,
   "id": "5aa46e27",
   "metadata": {},
   "outputs": [
    {
     "data": {
      "text/plain": [
       "264905"
      ]
     },
     "execution_count": 52,
     "metadata": {},
     "output_type": "execute_result"
    }
   ],
   "source": [
    "len(z)"
   ]
  },
  {
   "cell_type": "code",
   "execution_count": 32,
   "id": "1ec5c711",
   "metadata": {},
   "outputs": [
    {
     "data": {
      "text/plain": [
       "(396, 607, 167)"
      ]
     },
     "execution_count": 32,
     "metadata": {},
     "output_type": "execute_result"
    }
   ],
   "source": [
    "im.shape"
   ]
  },
  {
   "cell_type": "code",
   "execution_count": 106,
   "id": "67f585b9",
   "metadata": {},
   "outputs": [],
   "source": [
    "viewer = napari.view_image(im)"
   ]
  },
  {
   "cell_type": "code",
   "execution_count": 80,
   "id": "8a59e4e6",
   "metadata": {},
   "outputs": [
    {
     "data": {
      "text/plain": [
       "(1000, 3)"
      ]
     },
     "execution_count": 80,
     "metadata": {},
     "output_type": "execute_result"
    }
   ],
   "source": [
    "points = np.concatenate((np.expand_dims(z, axis=0), np.expand_dims(y, axis=0), np.expand_dims(x, axis=0)),axis=0).T\n",
    "points[random_indices].shape"
   ]
  },
  {
   "cell_type": "code",
   "execution_count": 81,
   "id": "a961f725",
   "metadata": {
    "scrolled": true
   },
   "outputs": [
    {
     "name": "stderr",
     "output_type": "stream",
     "text": [
      "/home/brandon/anaconda3/envs/ome_zarr/lib/python3.9/site-packages/numpy/core/numeric.py:2446: FutureWarning: elementwise comparison failed; returning scalar instead, but in the future will perform elementwise comparison\n",
      "  return bool(asarray(a1 == a2).all())\n"
     ]
    },
    {
     "data": {
      "text/plain": [
       "<Points layer 'Points' at 0x7fc79d481850>"
      ]
     },
     "execution_count": 81,
     "metadata": {},
     "output_type": "execute_result"
    }
   ],
   "source": [
    "viewer.add_points(points[random_indices])"
   ]
  },
  {
   "cell_type": "code",
   "execution_count": 79,
   "id": "428e63b4",
   "metadata": {},
   "outputs": [
    {
     "data": {
      "text/plain": [
       "(1000, 3)"
      ]
     },
     "execution_count": 79,
     "metadata": {},
     "output_type": "execute_result"
    }
   ],
   "source": [
    "points[random_indices].shape"
   ]
  },
  {
   "cell_type": "code",
   "execution_count": 77,
   "id": "ff04b5cd",
   "metadata": {},
   "outputs": [
    {
     "data": {
      "text/plain": [
       "(396, 607, 167)"
      ]
     },
     "execution_count": 77,
     "metadata": {},
     "output_type": "execute_result"
    }
   ],
   "source": [
    "viewer.layers[0].data.shape"
   ]
  },
  {
   "cell_type": "code",
   "execution_count": 78,
   "id": "c0d7a9d1",
   "metadata": {},
   "outputs": [],
   "source": [
    "points = np.concatenate((np.expand_dims(z, axis=0), np.expand_dims(y, axis=0), np.expand_dims(x, axis=0)),axis=0).T\n"
   ]
  },
  {
   "cell_type": "code",
   "execution_count": 119,
   "id": "a65f0937",
   "metadata": {},
   "outputs": [
    {
     "ename": "IndexError",
     "evalue": "list index out of range",
     "output_type": "error",
     "traceback": [
      "\u001b[0;31m---------------------------------------------------------------------------\u001b[0m",
      "\u001b[0;31mIndexError\u001b[0m                                Traceback (most recent call last)",
      "Input \u001b[0;32mIn [119]\u001b[0m, in \u001b[0;36m<cell line: 2>\u001b[0;34m()\u001b[0m\n\u001b[1;32m      1\u001b[0m viewer\u001b[38;5;241m.\u001b[39mlayers[\u001b[38;5;241m0\u001b[39m]\u001b[38;5;241m.\u001b[39mscale \u001b[38;5;241m=\u001b[39m [\u001b[38;5;241m2\u001b[39m, \u001b[38;5;241m0.3295\u001b[39m \u001b[38;5;241m*\u001b[39m \u001b[38;5;241m16\u001b[39m, \u001b[38;5;241m0.3295\u001b[39m \u001b[38;5;241m*\u001b[39m \u001b[38;5;241m16\u001b[39m]\n\u001b[0;32m----> 2\u001b[0m \u001b[43mviewer\u001b[49m\u001b[38;5;241;43m.\u001b[39;49m\u001b[43mlayers\u001b[49m\u001b[43m[\u001b[49m\u001b[38;5;241;43m1\u001b[39;49m\u001b[43m]\u001b[49m\u001b[38;5;241m.\u001b[39mscale \u001b[38;5;241m=\u001b[39m [\u001b[38;5;241m2\u001b[39m, \u001b[38;5;241m0.3295\u001b[39m \u001b[38;5;241m*\u001b[39m \u001b[38;5;241m16\u001b[39m, \u001b[38;5;241m0.3295\u001b[39m \u001b[38;5;241m*\u001b[39m \u001b[38;5;241m16\u001b[39m]\n",
      "File \u001b[0;32m~/anaconda3/envs/ome_zarr/lib/python3.9/site-packages/napari/utils/events/containers/_typed.py:149\u001b[0m, in \u001b[0;36mTypedMutableSequence.__getitem__\u001b[0;34m(self, key)\u001b[0m\n\u001b[1;32m    146\u001b[0m     \u001b[38;5;28;01mexcept\u001b[39;00m \u001b[38;5;167;01mValueError\u001b[39;00m \u001b[38;5;28;01mas\u001b[39;00m e:\n\u001b[1;32m    147\u001b[0m         \u001b[38;5;28;01mraise\u001b[39;00m \u001b[38;5;167;01mKeyError\u001b[39;00m(\u001b[38;5;28mstr\u001b[39m(e)) \u001b[38;5;28;01mfrom\u001b[39;00m \u001b[38;5;21;01me\u001b[39;00m\n\u001b[0;32m--> 149\u001b[0m result \u001b[38;5;241m=\u001b[39m \u001b[38;5;28;43mself\u001b[39;49m\u001b[38;5;241;43m.\u001b[39;49m\u001b[43m_list\u001b[49m\u001b[43m[\u001b[49m\u001b[43mkey\u001b[49m\u001b[43m]\u001b[49m\n\u001b[1;32m    150\u001b[0m \u001b[38;5;28;01mreturn\u001b[39;00m \u001b[38;5;28mself\u001b[39m\u001b[38;5;241m.\u001b[39m__newlike__(result) \u001b[38;5;28;01mif\u001b[39;00m \u001b[38;5;28misinstance\u001b[39m(result, \u001b[38;5;28mlist\u001b[39m) \u001b[38;5;28;01melse\u001b[39;00m result\n",
      "\u001b[0;31mIndexError\u001b[0m: list index out of range"
     ]
    }
   ],
   "source": [
    "viewer.layers[0].scale = [2, 0.3295 * 16, 0.3295 * 16]\n",
    "#viewer.layers[1].scale = [2, 0.3295 * 16, 0.3295 * 16]"
   ]
  },
  {
   "cell_type": "code",
   "execution_count": 120,
   "id": "facea64b",
   "metadata": {},
   "outputs": [],
   "source": [
    "origin = (0, 0, int(im.shape[2] / 2) * 0.3295 * 16)"
   ]
  },
  {
   "cell_type": "code",
   "execution_count": 121,
   "id": "97ce8e75",
   "metadata": {},
   "outputs": [
    {
     "data": {
      "text/plain": [
       "(0, 0, 437.576)"
      ]
     },
     "execution_count": 121,
     "metadata": {},
     "output_type": "execute_result"
    }
   ],
   "source": [
    "origin"
   ]
  },
  {
   "cell_type": "code",
   "execution_count": 130,
   "id": "49b5a396",
   "metadata": {},
   "outputs": [],
   "source": [
    "xum = x * 0.3295 * 16\n",
    "yum = y * 0.3295 * 16\n",
    "zum = z * 2\n",
    "r = np.sqrt((xum - origin[2]) **2 + (zum - origin[0]) **2)\n",
    "theta = np.arctan(zum / xum)\n",
    "v = np.array(theta * 1000, dtype=int)"
   ]
  },
  {
   "cell_type": "code",
   "execution_count": 123,
   "id": "be0f6d8d",
   "metadata": {},
   "outputs": [
    {
     "data": {
      "text/plain": [
       "[<matplotlib.lines.Line2D at 0x7fc784391880>]"
      ]
     },
     "execution_count": 123,
     "metadata": {},
     "output_type": "execute_result"
    }
   ],
   "source": [
    "plt.figure()\n",
    "plt.plot(yum[random_indices], r[random_indices], 'ko', markersize=4, alpha=0.1)"
   ]
  },
  {
   "cell_type": "code",
   "execution_count": 124,
   "id": "f87e09ee",
   "metadata": {},
   "outputs": [
    {
     "data": {
      "text/plain": [
       "(0.0, 3000.0)"
      ]
     },
     "execution_count": 124,
     "metadata": {},
     "output_type": "execute_result"
    }
   ],
   "source": [
    "plt.xlim([0,3000])\n",
    "plt.ylim([0, 3000])"
   ]
  },
  {
   "cell_type": "code",
   "execution_count": 156,
   "id": "fba0c448",
   "metadata": {},
   "outputs": [
    {
     "data": {
      "text/plain": [
       "[<matplotlib.lines.Line2D at 0x7fc7a0caef40>]"
      ]
     },
     "execution_count": 156,
     "metadata": {},
     "output_type": "execute_result"
    }
   ],
   "source": [
    "plt.figure()\n",
    "plt.subplot(1,2,1)\n",
    "plt.plot(v[random_indices], yum[random_indices], 'ko', markersize=4, alpha=0.1)\n",
    "plt.subplot(1,2,2)\n",
    "plt.plot(xum[random_indices], yum[random_indices], 'ko', markersize=4, alpha=0.1)"
   ]
  },
  {
   "cell_type": "code",
   "execution_count": 142,
   "id": "595b0634",
   "metadata": {},
   "outputs": [],
   "source": [
    "Imap = np.zeros((im.shape[1], 2000))"
   ]
  },
  {
   "cell_type": "code",
   "execution_count": 143,
   "id": "37502e53",
   "metadata": {},
   "outputs": [
    {
     "data": {
      "text/plain": [
       "(607, 2000)"
      ]
     },
     "execution_count": 143,
     "metadata": {},
     "output_type": "execute_result"
    }
   ],
   "source": [
    "Imap.shape"
   ]
  },
  {
   "cell_type": "code",
   "execution_count": 144,
   "id": "7d4107b9",
   "metadata": {},
   "outputs": [
    {
     "name": "stderr",
     "output_type": "stream",
     "text": [
      "/tmp/ipykernel_1361560/2554899069.py:4: RuntimeWarning: invalid value encountered in long_scalars\n",
      "  this_theta = np.arctan(zgrid[k,j,i] / xgrid[k,j,i])\n",
      "/tmp/ipykernel_1361560/2554899069.py:4: RuntimeWarning: divide by zero encountered in long_scalars\n",
      "  this_theta = np.arctan(zgrid[k,j,i] / xgrid[k,j,i])\n"
     ]
    }
   ],
   "source": [
    "for k in range(im.shape[0]):\n",
    "    for j in range(im.shape[1]):\n",
    "        for i in range(im.shape[2]):\n",
    "            this_theta = np.arctan(zgrid[k,j,i] / xgrid[k,j,i])\n",
    "            if np.isnan(this_theta):\n",
    "                continue\n",
    "            this_v = int(this_theta * 1000)\n",
    "            Imap[ygrid[k,j,i], this_v] = im[k,j,i]"
   ]
  },
  {
   "cell_type": "code",
   "execution_count": 145,
   "id": "4843ba33",
   "metadata": {},
   "outputs": [
    {
     "data": {
      "text/plain": [
       "<matplotlib.image.AxesImage at 0x7fc7856f07f0>"
      ]
     },
     "execution_count": 145,
     "metadata": {},
     "output_type": "execute_result"
    }
   ],
   "source": []
  },
  {
   "cell_type": "code",
   "execution_count": 150,
   "id": "38c34d56",
   "metadata": {},
   "outputs": [],
   "source": [
    "for i in range(len(random_indices)):\n",
    "    this_x = x[i]\n",
    "    this_y = y[i]\n",
    "    this_z = z[i]\n",
    "    this_theta = np.arctan(this_z / this_x)\n",
    "    if np.isnan(this_theta):\n",
    "        print('nan!')\n",
    "        continue\n",
    "    this_v = int(this_theta * 1000)\n",
    "    Imap[this_y, this_v] = im[this_z, this_y, this_x]"
   ]
  },
  {
   "cell_type": "code",
   "execution_count": 152,
   "id": "237febd1",
   "metadata": {},
   "outputs": [
    {
     "data": {
      "text/plain": [
       "<matplotlib.image.AxesImage at 0x7fc7a0725a90>"
      ]
     },
     "execution_count": 152,
     "metadata": {},
     "output_type": "execute_result"
    }
   ],
   "source": [
    "plt.figure()\n",
    "plt.imshow(Imap)"
   ]
  },
  {
   "cell_type": "code",
   "execution_count": null,
   "id": "ac847eb9",
   "metadata": {},
   "outputs": [],
   "source": []
  }
 ],
 "metadata": {
  "kernelspec": {
   "display_name": "Python (ome_zarr)",
   "language": "python",
   "name": "ome_zarr"
  },
  "language_info": {
   "codemirror_mode": {
    "name": "ipython",
    "version": 3
   },
   "file_extension": ".py",
   "mimetype": "text/x-python",
   "name": "python",
   "nbconvert_exporter": "python",
   "pygments_lexer": "ipython3",
   "version": "3.9.11"
  }
 },
 "nbformat": 4,
 "nbformat_minor": 5
}
