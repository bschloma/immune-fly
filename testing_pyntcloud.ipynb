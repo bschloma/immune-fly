{
 "cells": [
  {
   "cell_type": "code",
   "execution_count": 1,
   "id": "7de6ac88-585c-40b2-bcd6-477a9d7a6c0f",
   "metadata": {},
   "outputs": [
    {
     "name": "stdout",
     "output_type": "stream",
     "text": [
      "Jupyter environment detected. Enabling Open3D WebVisualizer.\n",
      "[Open3D INFO] WebRTC GUI backend enabled.\n",
      "[Open3D INFO] WebRTCWindowSystem: HTTP handshake server disabled.\n"
     ]
    }
   ],
   "source": [
    "import pandas as pd\n",
    "import open3d as o3d\n",
    "from pyntcloud import PyntCloud\n",
    "import napari"
   ]
  },
  {
   "cell_type": "code",
   "execution_count": 2,
   "id": "ec690a88-8e62-43a2-9aed-d8b6897804d1",
   "metadata": {},
   "outputs": [],
   "source": [
    "df = pd.read_pickle(r'/media/brandon/Data2/Brandon/fly_immune/Lightsheet_Z1/2024_03_20_dpt-gfp_r4-gal4_ecoli-hs-dtom_input-output_pilot_4-6hrs/larva_2/bacteria.pkl')"
   ]
  },
  {
   "cell_type": "code",
   "execution_count": 3,
   "id": "f1d8cac5-7cc5-480e-aa65-925294e2b7a4",
   "metadata": {},
   "outputs": [
    {
     "data": {
      "text/html": [
       "<div>\n",
       "<style scoped>\n",
       "    .dataframe tbody tr th:only-of-type {\n",
       "        vertical-align: middle;\n",
       "    }\n",
       "\n",
       "    .dataframe tbody tr th {\n",
       "        vertical-align: top;\n",
       "    }\n",
       "\n",
       "    .dataframe thead th {\n",
       "        text-align: right;\n",
       "    }\n",
       "</style>\n",
       "<table border=\"1\" class=\"dataframe\">\n",
       "  <thead>\n",
       "    <tr style=\"text-align: right;\">\n",
       "      <th></th>\n",
       "      <th>index</th>\n",
       "      <th>data</th>\n",
       "      <th>seg_id</th>\n",
       "      <th>t</th>\n",
       "      <th>z</th>\n",
       "      <th>y</th>\n",
       "      <th>x</th>\n",
       "      <th>z_um</th>\n",
       "      <th>y_um</th>\n",
       "      <th>x_um</th>\n",
       "      <th>bkg_sub_sum_data</th>\n",
       "      <th>raw_sum_data</th>\n",
       "      <th>bkg_data</th>\n",
       "    </tr>\n",
       "  </thead>\n",
       "  <tbody>\n",
       "    <tr>\n",
       "      <th>0</th>\n",
       "      <td>0</td>\n",
       "      <td>[[[0, 0, 0, 0, 0, 0, 0, 507, 0, 0, 0, 0, 0, 0,...</td>\n",
       "      <td>1</td>\n",
       "      <td>0</td>\n",
       "      <td>63</td>\n",
       "      <td>4302</td>\n",
       "      <td>1487</td>\n",
       "      <td>126</td>\n",
       "      <td>1398.150</td>\n",
       "      <td>483.275</td>\n",
       "      <td>16054.255556</td>\n",
       "      <td>72715</td>\n",
       "      <td>67.549630</td>\n",
       "    </tr>\n",
       "    <tr>\n",
       "      <th>1</th>\n",
       "      <td>0</td>\n",
       "      <td>[[[0, 0, 0, 377, 0, 0, 0], [0, 439, 466, 462, ...</td>\n",
       "      <td>2</td>\n",
       "      <td>0</td>\n",
       "      <td>54</td>\n",
       "      <td>7045</td>\n",
       "      <td>732</td>\n",
       "      <td>108</td>\n",
       "      <td>2289.625</td>\n",
       "      <td>237.900</td>\n",
       "      <td>4538.848397</td>\n",
       "      <td>13849</td>\n",
       "      <td>164.527697</td>\n",
       "    </tr>\n",
       "    <tr>\n",
       "      <th>2</th>\n",
       "      <td>0</td>\n",
       "      <td>[[[0, 0, 0, 459, 0, 0, 0], [0, 498, 516, 472, ...</td>\n",
       "      <td>3</td>\n",
       "      <td>0</td>\n",
       "      <td>57</td>\n",
       "      <td>7166</td>\n",
       "      <td>694</td>\n",
       "      <td>114</td>\n",
       "      <td>2328.950</td>\n",
       "      <td>225.550</td>\n",
       "      <td>6492.367347</td>\n",
       "      <td>18960</td>\n",
       "      <td>165.979592</td>\n",
       "    </tr>\n",
       "    <tr>\n",
       "      <th>3</th>\n",
       "      <td>0</td>\n",
       "      <td>[[[0, 0, 0, 474, 0, 0, 0], [0, 522, 542, 477, ...</td>\n",
       "      <td>4</td>\n",
       "      <td>0</td>\n",
       "      <td>63</td>\n",
       "      <td>7005</td>\n",
       "      <td>2434</td>\n",
       "      <td>126</td>\n",
       "      <td>2276.625</td>\n",
       "      <td>791.050</td>\n",
       "      <td>4642.033528</td>\n",
       "      <td>14743</td>\n",
       "      <td>188.239067</td>\n",
       "    </tr>\n",
       "    <tr>\n",
       "      <th>4</th>\n",
       "      <td>0</td>\n",
       "      <td>[[[0, 0, 0, 0, 0, 0, 0, 0], [0, 0, 0, 0, 0, 0,...</td>\n",
       "      <td>5</td>\n",
       "      <td>0</td>\n",
       "      <td>29</td>\n",
       "      <td>7479</td>\n",
       "      <td>648</td>\n",
       "      <td>58</td>\n",
       "      <td>2430.675</td>\n",
       "      <td>210.600</td>\n",
       "      <td>7938.800000</td>\n",
       "      <td>27897</td>\n",
       "      <td>56.675000</td>\n",
       "    </tr>\n",
       "    <tr>\n",
       "      <th>...</th>\n",
       "      <td>...</td>\n",
       "      <td>...</td>\n",
       "      <td>...</td>\n",
       "      <td>...</td>\n",
       "      <td>...</td>\n",
       "      <td>...</td>\n",
       "      <td>...</td>\n",
       "      <td>...</td>\n",
       "      <td>...</td>\n",
       "      <td>...</td>\n",
       "      <td>...</td>\n",
       "      <td>...</td>\n",
       "      <td>...</td>\n",
       "    </tr>\n",
       "    <tr>\n",
       "      <th>29289</th>\n",
       "      <td>0</td>\n",
       "      <td>[[[0, 0, 0, 514, 0, 0, 0], [0, 435, 480, 508, ...</td>\n",
       "      <td>29290</td>\n",
       "      <td>0</td>\n",
       "      <td>263</td>\n",
       "      <td>5817</td>\n",
       "      <td>1701</td>\n",
       "      <td>526</td>\n",
       "      <td>1890.525</td>\n",
       "      <td>552.825</td>\n",
       "      <td>4117.460641</td>\n",
       "      <td>13704</td>\n",
       "      <td>188.588921</td>\n",
       "    </tr>\n",
       "    <tr>\n",
       "      <th>29290</th>\n",
       "      <td>0</td>\n",
       "      <td>[[[0, 0, 0, 0, 0, 0, 0, 0, 0, 0], [0, 0, 0, 0,...</td>\n",
       "      <td>29291</td>\n",
       "      <td>0</td>\n",
       "      <td>257</td>\n",
       "      <td>6283</td>\n",
       "      <td>1777</td>\n",
       "      <td>514</td>\n",
       "      <td>2041.975</td>\n",
       "      <td>577.525</td>\n",
       "      <td>33035.436000</td>\n",
       "      <td>175580</td>\n",
       "      <td>44.783636</td>\n",
       "    </tr>\n",
       "    <tr>\n",
       "      <th>29291</th>\n",
       "      <td>0</td>\n",
       "      <td>[[[0, 0, 0, 480, 512, 0, 0, 0], [0, 442, 473, ...</td>\n",
       "      <td>29292</td>\n",
       "      <td>0</td>\n",
       "      <td>257</td>\n",
       "      <td>6405</td>\n",
       "      <td>1771</td>\n",
       "      <td>514</td>\n",
       "      <td>2081.625</td>\n",
       "      <td>575.575</td>\n",
       "      <td>5316.535714</td>\n",
       "      <td>18141</td>\n",
       "      <td>208.553571</td>\n",
       "    </tr>\n",
       "    <tr>\n",
       "      <th>29292</th>\n",
       "      <td>0</td>\n",
       "      <td>[[[0, 0, 0, 0, 0, 0, 0, 0, 0, 0, 0, 0], [0, 0,...</td>\n",
       "      <td>29293</td>\n",
       "      <td>0</td>\n",
       "      <td>259</td>\n",
       "      <td>6481</td>\n",
       "      <td>1695</td>\n",
       "      <td>518</td>\n",
       "      <td>2106.325</td>\n",
       "      <td>550.875</td>\n",
       "      <td>29185.035185</td>\n",
       "      <td>192776</td>\n",
       "      <td>59.075556</td>\n",
       "    </tr>\n",
       "    <tr>\n",
       "      <th>29293</th>\n",
       "      <td>0</td>\n",
       "      <td>[[[0, 0, 0, 0, 312, 0, 0, 0], [0, 0, 330, 340,...</td>\n",
       "      <td>29294</td>\n",
       "      <td>0</td>\n",
       "      <td>256</td>\n",
       "      <td>6771</td>\n",
       "      <td>1343</td>\n",
       "      <td>512</td>\n",
       "      <td>2200.575</td>\n",
       "      <td>436.475</td>\n",
       "      <td>7340.308594</td>\n",
       "      <td>41920</td>\n",
       "      <td>100.643519</td>\n",
       "    </tr>\n",
       "  </tbody>\n",
       "</table>\n",
       "<p>29294 rows × 13 columns</p>\n",
       "</div>"
      ],
      "text/plain": [
       "       index                                               data  seg_id  t  \\\n",
       "0          0  [[[0, 0, 0, 0, 0, 0, 0, 507, 0, 0, 0, 0, 0, 0,...       1  0   \n",
       "1          0  [[[0, 0, 0, 377, 0, 0, 0], [0, 439, 466, 462, ...       2  0   \n",
       "2          0  [[[0, 0, 0, 459, 0, 0, 0], [0, 498, 516, 472, ...       3  0   \n",
       "3          0  [[[0, 0, 0, 474, 0, 0, 0], [0, 522, 542, 477, ...       4  0   \n",
       "4          0  [[[0, 0, 0, 0, 0, 0, 0, 0], [0, 0, 0, 0, 0, 0,...       5  0   \n",
       "...      ...                                                ...     ... ..   \n",
       "29289      0  [[[0, 0, 0, 514, 0, 0, 0], [0, 435, 480, 508, ...   29290  0   \n",
       "29290      0  [[[0, 0, 0, 0, 0, 0, 0, 0, 0, 0], [0, 0, 0, 0,...   29291  0   \n",
       "29291      0  [[[0, 0, 0, 480, 512, 0, 0, 0], [0, 442, 473, ...   29292  0   \n",
       "29292      0  [[[0, 0, 0, 0, 0, 0, 0, 0, 0, 0, 0, 0], [0, 0,...   29293  0   \n",
       "29293      0  [[[0, 0, 0, 0, 312, 0, 0, 0], [0, 0, 330, 340,...   29294  0   \n",
       "\n",
       "         z     y     x  z_um      y_um     x_um  bkg_sub_sum_data  \\\n",
       "0       63  4302  1487   126  1398.150  483.275      16054.255556   \n",
       "1       54  7045   732   108  2289.625  237.900       4538.848397   \n",
       "2       57  7166   694   114  2328.950  225.550       6492.367347   \n",
       "3       63  7005  2434   126  2276.625  791.050       4642.033528   \n",
       "4       29  7479   648    58  2430.675  210.600       7938.800000   \n",
       "...    ...   ...   ...   ...       ...      ...               ...   \n",
       "29289  263  5817  1701   526  1890.525  552.825       4117.460641   \n",
       "29290  257  6283  1777   514  2041.975  577.525      33035.436000   \n",
       "29291  257  6405  1771   514  2081.625  575.575       5316.535714   \n",
       "29292  259  6481  1695   518  2106.325  550.875      29185.035185   \n",
       "29293  256  6771  1343   512  2200.575  436.475       7340.308594   \n",
       "\n",
       "       raw_sum_data    bkg_data  \n",
       "0             72715   67.549630  \n",
       "1             13849  164.527697  \n",
       "2             18960  165.979592  \n",
       "3             14743  188.239067  \n",
       "4             27897   56.675000  \n",
       "...             ...         ...  \n",
       "29289         13704  188.588921  \n",
       "29290        175580   44.783636  \n",
       "29291         18141  208.553571  \n",
       "29292        192776   59.075556  \n",
       "29293         41920  100.643519  \n",
       "\n",
       "[29294 rows x 13 columns]"
      ]
     },
     "execution_count": 3,
     "metadata": {},
     "output_type": "execute_result"
    }
   ],
   "source": [
    "df"
   ]
  },
  {
   "cell_type": "code",
   "execution_count": 4,
   "id": "89ad7ca4-f7a7-42bb-ad72-4d90ba864446",
   "metadata": {},
   "outputs": [],
   "source": [
    "xyz = df.get(['x_um','y_um','z_um']).values.astype('int')"
   ]
  },
  {
   "cell_type": "code",
   "execution_count": 5,
   "id": "f81826a0-441d-4e2b-a716-093b0afd4619",
   "metadata": {},
   "outputs": [
    {
     "data": {
      "text/plain": [
       "True"
      ]
     },
     "execution_count": 5,
     "metadata": {},
     "output_type": "execute_result"
    }
   ],
   "source": [
    "out_file = r'/media/brandon/Data2/Brandon/fly_immune/Lightsheet_Z1/2024_03_20_dpt-gfp_r4-gal4_ecoli-hs-dtom_input-output_pilot_4-6hrs/larva_2/bacteria.ply'\n",
    "pcd = o3d.geometry.PointCloud()\n",
    "pcd.points = o3d.utility.Vector3dVector(xyz)\n",
    "o3d.io.write_point_cloud(out_file, pcd)"
   ]
  },
  {
   "cell_type": "code",
   "execution_count": 6,
   "id": "801ef16a-1069-4316-83c1-92e32a74c524",
   "metadata": {},
   "outputs": [],
   "source": [
    "bacteria = PyntCloud.from_file(out_file)"
   ]
  },
  {
   "cell_type": "code",
   "execution_count": 7,
   "id": "958da8f3-5227-46ef-8861-011e7ded1a69",
   "metadata": {},
   "outputs": [],
   "source": [
    "convex_hull_id = bacteria.add_structure(\"convex_hull\")"
   ]
  },
  {
   "cell_type": "code",
   "execution_count": 8,
   "id": "895ed8e7-4a25-4b2e-9ce3-958827dd3a72",
   "metadata": {},
   "outputs": [],
   "source": [
    "convex_hull = bacteria.structures[convex_hull_id]"
   ]
  },
  {
   "cell_type": "code",
   "execution_count": 16,
   "id": "dc9288c4-c98b-4572-a413-3024b4f70147",
   "metadata": {},
   "outputs": [
    {
     "ename": "AttributeError",
     "evalue": "'DataFrame' object has no attribute 'structures'",
     "output_type": "error",
     "traceback": [
      "\u001b[0;31m---------------------------------------------------------------------------\u001b[0m",
      "\u001b[0;31mAttributeError\u001b[0m                            Traceback (most recent call last)",
      "\u001b[0;32m/tmp/ipykernel_690574/2798864854.py\u001b[0m in \u001b[0;36m?\u001b[0;34m()\u001b[0m\n\u001b[0;32m----> 1\u001b[0;31m \u001b[0mbacteria\u001b[0m\u001b[0;34m.\u001b[0m\u001b[0mmesh\u001b[0m \u001b[0;34m=\u001b[0m \u001b[0mconvex_hull\u001b[0m\u001b[0;34m.\u001b[0m\u001b[0mget_mesh\u001b[0m\u001b[0;34m(\u001b[0m\u001b[0;34m)\u001b[0m\u001b[0;34m.\u001b[0m\u001b[0mstructures\u001b[0m\u001b[0;34m[\u001b[0m\u001b[0mconvex_hull_id\u001b[0m\u001b[0;34m]\u001b[0m\u001b[0;34m\u001b[0m\u001b[0;34m\u001b[0m\u001b[0m\n\u001b[0m",
      "\u001b[0;32m~/anaconda3/envs/pynt/lib/python3.11/site-packages/pandas/core/generic.py\u001b[0m in \u001b[0;36m?\u001b[0;34m(self, name)\u001b[0m\n\u001b[1;32m   6292\u001b[0m             \u001b[0;32mand\u001b[0m \u001b[0mname\u001b[0m \u001b[0;32mnot\u001b[0m \u001b[0;32min\u001b[0m \u001b[0mself\u001b[0m\u001b[0;34m.\u001b[0m\u001b[0m_accessors\u001b[0m\u001b[0;34m\u001b[0m\u001b[0;34m\u001b[0m\u001b[0m\n\u001b[1;32m   6293\u001b[0m             \u001b[0;32mand\u001b[0m \u001b[0mself\u001b[0m\u001b[0;34m.\u001b[0m\u001b[0m_info_axis\u001b[0m\u001b[0;34m.\u001b[0m\u001b[0m_can_hold_identifiers_and_holds_name\u001b[0m\u001b[0;34m(\u001b[0m\u001b[0mname\u001b[0m\u001b[0;34m)\u001b[0m\u001b[0;34m\u001b[0m\u001b[0;34m\u001b[0m\u001b[0m\n\u001b[1;32m   6294\u001b[0m         ):\n\u001b[1;32m   6295\u001b[0m             \u001b[0;32mreturn\u001b[0m \u001b[0mself\u001b[0m\u001b[0;34m[\u001b[0m\u001b[0mname\u001b[0m\u001b[0;34m]\u001b[0m\u001b[0;34m\u001b[0m\u001b[0;34m\u001b[0m\u001b[0m\n\u001b[0;32m-> 6296\u001b[0;31m         \u001b[0;32mreturn\u001b[0m \u001b[0mobject\u001b[0m\u001b[0;34m.\u001b[0m\u001b[0m__getattribute__\u001b[0m\u001b[0;34m(\u001b[0m\u001b[0mself\u001b[0m\u001b[0;34m,\u001b[0m \u001b[0mname\u001b[0m\u001b[0;34m)\u001b[0m\u001b[0;34m\u001b[0m\u001b[0;34m\u001b[0m\u001b[0m\n\u001b[0m",
      "\u001b[0;31mAttributeError\u001b[0m: 'DataFrame' object has no attribute 'structures'"
     ]
    }
   ],
   "source": [
    "bacteria.mesh = convex_hull.get_mesh().structures[convex_hull_id]"
   ]
  },
  {
   "cell_type": "code",
   "execution_count": 17,
   "id": "ddae070c-13ce-456c-a791-10e638f2dfd0",
   "metadata": {},
   "outputs": [
    {
     "data": {
      "text/plain": [
       "<pyntcloud.structures.convex_hull.ConvexHull at 0x7fbd47212510>"
      ]
     },
     "execution_count": 17,
     "metadata": {},
     "output_type": "execute_result"
    }
   ],
   "source": [
    "convex_hull"
   ]
  },
  {
   "cell_type": "code",
   "execution_count": 18,
   "id": "02547ce1-01e1-40b8-981d-ff8de509dabd",
   "metadata": {},
   "outputs": [],
   "source": [
    "volume = convex_hull.volume"
   ]
  },
  {
   "cell_type": "code",
   "execution_count": 19,
   "id": "936e4b8c-3e64-45a4-b098-0542f4f78084",
   "metadata": {},
   "outputs": [
    {
     "data": {
      "text/plain": [
       "626304075.6666667"
      ]
     },
     "execution_count": 19,
     "metadata": {},
     "output_type": "execute_result"
    }
   ],
   "source": [
    "volume"
   ]
  },
  {
   "cell_type": "code",
   "execution_count": 9,
   "id": "e1e78058-023c-4bb4-a1d4-d8b10d0d5550",
   "metadata": {},
   "outputs": [],
   "source": [
    "mesh = convex_hull.get_mesh().values"
   ]
  },
  {
   "cell_type": "code",
   "execution_count": 10,
   "id": "de51d0dc-8056-4fe9-9c03-3498adf552fe",
   "metadata": {},
   "outputs": [
    {
     "data": {
      "text/plain": [
       "(280, 3)"
      ]
     },
     "execution_count": 10,
     "metadata": {},
     "output_type": "execute_result"
    }
   ],
   "source": [
    "mesh.shape"
   ]
  },
  {
   "cell_type": "code",
   "execution_count": 11,
   "id": "aec3bd1d-8f81-4dd2-86c4-d3bd32b65565",
   "metadata": {},
   "outputs": [],
   "source": [
    "viewer = napari.Viewer()\n"
   ]
  },
  {
   "cell_type": "code",
   "execution_count": 21,
   "id": "be0cc80b-85e8-4c8d-9dc2-ce5a1d787964",
   "metadata": {},
   "outputs": [
    {
     "ename": "ValueError",
     "evalue": "all the input array dimensions except for the concatenation axis must match exactly, but along dimension 1, the array at index 0 has size 2 and the array at index 1 has size 3",
     "output_type": "error",
     "traceback": [
      "\u001b[0;31m---------------------------------------------------------------------------\u001b[0m",
      "\u001b[0;31mValueError\u001b[0m                                Traceback (most recent call last)",
      "Cell \u001b[0;32mIn[21], line 1\u001b[0m\n\u001b[0;32m----> 1\u001b[0m shapes_layer \u001b[38;5;241m=\u001b[39m \u001b[43mviewer\u001b[49m\u001b[38;5;241;43m.\u001b[39;49m\u001b[43madd_shapes\u001b[49m\u001b[43m(\u001b[49m\u001b[43m)\u001b[49m\n\u001b[1;32m      2\u001b[0m shapes_layer\u001b[38;5;241m.\u001b[39madd(zyx, shape_type\u001b[38;5;241m=\u001b[39m\u001b[38;5;124m'\u001b[39m\u001b[38;5;124mpath\u001b[39m\u001b[38;5;124m'\u001b[39m)\n",
      "File \u001b[0;32m~/anaconda3/envs/pynt/lib/python3.11/site-packages/napari/components/viewer_model.py:11\u001b[0m, in \u001b[0;36madd_shapes\u001b[0;34m(self, data, ndim, features, feature_defaults, properties, property_choices, text, shape_type, edge_width, edge_color, edge_color_cycle, edge_colormap, edge_contrast_limits, face_color, face_color_cycle, face_colormap, face_contrast_limits, z_index, name, metadata, scale, translate, rotate, shear, affine, opacity, blending, visible, cache, experimental_clipping_planes)\u001b[0m\n\u001b[1;32m      7\u001b[0m \u001b[38;5;28;01mfrom\u001b[39;00m \u001b[38;5;21;01mfunctools\u001b[39;00m \u001b[38;5;28;01mimport\u001b[39;00m lru_cache\n\u001b[1;32m      8\u001b[0m \u001b[38;5;28;01mfrom\u001b[39;00m \u001b[38;5;21;01mpathlib\u001b[39;00m \u001b[38;5;28;01mimport\u001b[39;00m Path\n\u001b[1;32m      9\u001b[0m \u001b[38;5;28;01mfrom\u001b[39;00m \u001b[38;5;21;01mtyping\u001b[39;00m \u001b[38;5;28;01mimport\u001b[39;00m (\n\u001b[1;32m     10\u001b[0m     TYPE_CHECKING,\n\u001b[0;32m---> 11\u001b[0m     Any,\n\u001b[1;32m     12\u001b[0m     Dict,\n\u001b[1;32m     13\u001b[0m     List,\n\u001b[1;32m     14\u001b[0m     Mapping,\n\u001b[1;32m     15\u001b[0m     Optional,\n\u001b[1;32m     16\u001b[0m     Sequence,\n\u001b[1;32m     17\u001b[0m     Set,\n\u001b[1;32m     18\u001b[0m     Tuple,\n\u001b[1;32m     19\u001b[0m     Union,\n\u001b[1;32m     20\u001b[0m )\n\u001b[1;32m     22\u001b[0m \u001b[38;5;28;01mimport\u001b[39;00m \u001b[38;5;21;01mnumpy\u001b[39;00m \u001b[38;5;28;01mas\u001b[39;00m \u001b[38;5;21;01mnp\u001b[39;00m\n\u001b[1;32m     24\u001b[0m \u001b[38;5;28;01mfrom\u001b[39;00m \u001b[38;5;21;01mnapari\u001b[39;00m \u001b[38;5;28;01mimport\u001b[39;00m layers\n",
      "File \u001b[0;32m~/anaconda3/envs/pynt/lib/python3.11/_collections_abc.py:1078\u001b[0m, in \u001b[0;36mMutableSequence.append\u001b[0;34m(self, value)\u001b[0m\n\u001b[1;32m   1076\u001b[0m \u001b[38;5;28;01mdef\u001b[39;00m \u001b[38;5;21mappend\u001b[39m(\u001b[38;5;28mself\u001b[39m, value):\n\u001b[1;32m   1077\u001b[0m     \u001b[38;5;124m'\u001b[39m\u001b[38;5;124mS.append(value) -- append value to the end of the sequence\u001b[39m\u001b[38;5;124m'\u001b[39m\n\u001b[0;32m-> 1078\u001b[0m     \u001b[38;5;28;43mself\u001b[39;49m\u001b[38;5;241;43m.\u001b[39;49m\u001b[43minsert\u001b[49m\u001b[43m(\u001b[49m\u001b[38;5;28;43mlen\u001b[39;49m\u001b[43m(\u001b[49m\u001b[38;5;28;43mself\u001b[39;49m\u001b[43m)\u001b[49m\u001b[43m,\u001b[49m\u001b[43m \u001b[49m\u001b[43mvalue\u001b[49m\u001b[43m)\u001b[49m\n",
      "File \u001b[0;32m~/anaconda3/envs/pynt/lib/python3.11/site-packages/napari/components/layerlist.py:167\u001b[0m, in \u001b[0;36mLayerList.insert\u001b[0;34m(self, index, value)\u001b[0m\n\u001b[1;32m    165\u001b[0m \u001b[38;5;28mself\u001b[39m\u001b[38;5;241m.\u001b[39m_clean_cache()\n\u001b[1;32m    166\u001b[0m new_layer\u001b[38;5;241m.\u001b[39mevents\u001b[38;5;241m.\u001b[39mextent\u001b[38;5;241m.\u001b[39mconnect(\u001b[38;5;28mself\u001b[39m\u001b[38;5;241m.\u001b[39m_clean_cache)\n\u001b[0;32m--> 167\u001b[0m \u001b[38;5;28;43msuper\u001b[39;49m\u001b[43m(\u001b[49m\u001b[43m)\u001b[49m\u001b[38;5;241;43m.\u001b[39;49m\u001b[43minsert\u001b[49m\u001b[43m(\u001b[49m\u001b[43mindex\u001b[49m\u001b[43m,\u001b[49m\u001b[43m \u001b[49m\u001b[43mnew_layer\u001b[49m\u001b[43m)\u001b[49m\n",
      "File \u001b[0;32m~/anaconda3/envs/pynt/lib/python3.11/site-packages/napari/utils/events/containers/_selectable_list.py:69\u001b[0m, in \u001b[0;36mSelectableEventedList.insert\u001b[0;34m(self, index, value)\u001b[0m\n\u001b[1;32m     66\u001b[0m \u001b[38;5;28msuper\u001b[39m()\u001b[38;5;241m.\u001b[39minsert(index, value)\n\u001b[1;32m     67\u001b[0m \u001b[38;5;28;01mif\u001b[39;00m \u001b[38;5;28mself\u001b[39m\u001b[38;5;241m.\u001b[39m_activate_on_insert:\n\u001b[1;32m     68\u001b[0m     \u001b[38;5;66;03m# Make layer selected and unselect all others\u001b[39;00m\n\u001b[0;32m---> 69\u001b[0m     \u001b[38;5;28;43mself\u001b[39;49m\u001b[38;5;241;43m.\u001b[39;49m\u001b[43mselection\u001b[49m\u001b[38;5;241;43m.\u001b[39;49m\u001b[43mactive\u001b[49m \u001b[38;5;241m=\u001b[39m value\n",
      "File \u001b[0;32m~/anaconda3/envs/pynt/lib/python3.11/site-packages/napari/utils/events/containers/_selection.py:106\u001b[0m, in \u001b[0;36mSelection.active\u001b[0;34m(self, value)\u001b[0m\n\u001b[1;32m    104\u001b[0m     \u001b[38;5;28;01mreturn\u001b[39;00m\n\u001b[1;32m    105\u001b[0m \u001b[38;5;28mself\u001b[39m\u001b[38;5;241m.\u001b[39m_active \u001b[38;5;241m=\u001b[39m value\n\u001b[0;32m--> 106\u001b[0m \u001b[38;5;28mself\u001b[39m\u001b[38;5;241m.\u001b[39mclear() \u001b[38;5;28;01mif\u001b[39;00m value \u001b[38;5;129;01mis\u001b[39;00m \u001b[38;5;28;01mNone\u001b[39;00m \u001b[38;5;28;01melse\u001b[39;00m \u001b[38;5;28;43mself\u001b[39;49m\u001b[38;5;241;43m.\u001b[39;49m\u001b[43mselect_only\u001b[49m\u001b[43m(\u001b[49m\u001b[43mvalue\u001b[49m\u001b[43m)\u001b[49m\n\u001b[1;32m    107\u001b[0m \u001b[38;5;28mself\u001b[39m\u001b[38;5;241m.\u001b[39m_current \u001b[38;5;241m=\u001b[39m value\n\u001b[1;32m    108\u001b[0m \u001b[38;5;28mself\u001b[39m\u001b[38;5;241m.\u001b[39mevents\u001b[38;5;241m.\u001b[39mactive(value\u001b[38;5;241m=\u001b[39mvalue)\n",
      "File \u001b[0;32m~/anaconda3/envs/pynt/lib/python3.11/site-packages/napari/utils/events/containers/_selection.py:133\u001b[0m, in \u001b[0;36mSelection.select_only\u001b[0;34m(self, obj)\u001b[0m\n\u001b[1;32m    131\u001b[0m \u001b[38;5;28;01mdef\u001b[39;00m \u001b[38;5;21mselect_only\u001b[39m(\u001b[38;5;28mself\u001b[39m, obj: _T):\n\u001b[1;32m    132\u001b[0m \u001b[38;5;250m    \u001b[39m\u001b[38;5;124;03m\"\"\"Unselect everything but `obj`. Add to selection if not present.\"\"\"\u001b[39;00m\n\u001b[0;32m--> 133\u001b[0m     \u001b[38;5;28;43mself\u001b[39;49m\u001b[38;5;241;43m.\u001b[39;49m\u001b[43mintersection_update\u001b[49m\u001b[43m(\u001b[49m\u001b[43m{\u001b[49m\u001b[43mobj\u001b[49m\u001b[43m}\u001b[49m\u001b[43m)\u001b[49m\n\u001b[1;32m    134\u001b[0m     \u001b[38;5;28mself\u001b[39m\u001b[38;5;241m.\u001b[39madd(obj)\n",
      "File \u001b[0;32m~/anaconda3/envs/pynt/lib/python3.11/site-packages/napari/utils/events/containers/_set.py:131\u001b[0m, in \u001b[0;36mEventedSet.intersection_update\u001b[0;34m(self, others)\u001b[0m\n\u001b[1;32m    129\u001b[0m \u001b[38;5;28;01mdef\u001b[39;00m \u001b[38;5;21mintersection_update\u001b[39m(\u001b[38;5;28mself\u001b[39m, others: Iterable[_T] \u001b[38;5;241m=\u001b[39m ()) \u001b[38;5;241m-\u001b[39m\u001b[38;5;241m>\u001b[39m \u001b[38;5;28;01mNone\u001b[39;00m:\n\u001b[1;32m    130\u001b[0m \u001b[38;5;250m    \u001b[39m\u001b[38;5;124;03m\"\"\"Remove all elements of in this set that are not present in other.\"\"\"\u001b[39;00m\n\u001b[0;32m--> 131\u001b[0m     \u001b[38;5;28;43mself\u001b[39;49m\u001b[38;5;241;43m.\u001b[39;49m\u001b[43mdifference_update\u001b[49m\u001b[43m(\u001b[49m\u001b[38;5;28;43mself\u001b[39;49m\u001b[38;5;241;43m.\u001b[39;49m\u001b[43m_set\u001b[49m\u001b[38;5;241;43m.\u001b[39;49m\u001b[43msymmetric_difference\u001b[49m\u001b[43m(\u001b[49m\u001b[43mothers\u001b[49m\u001b[43m)\u001b[49m\u001b[43m)\u001b[49m\n",
      "File \u001b[0;32m~/anaconda3/envs/pynt/lib/python3.11/site-packages/napari/utils/events/containers/_set.py:123\u001b[0m, in \u001b[0;36mEventedSet.difference_update\u001b[0;34m(self, others)\u001b[0m\n\u001b[1;32m    121\u001b[0m \u001b[38;5;28;01mif\u001b[39;00m to_remove:\n\u001b[1;32m    122\u001b[0m     \u001b[38;5;28mself\u001b[39m\u001b[38;5;241m.\u001b[39m_set\u001b[38;5;241m.\u001b[39mdifference_update(to_remove)\n\u001b[0;32m--> 123\u001b[0m     \u001b[38;5;28;43mself\u001b[39;49m\u001b[38;5;241;43m.\u001b[39;49m\u001b[43m_emit_change\u001b[49m\u001b[43m(\u001b[49m\u001b[43madded\u001b[49m\u001b[38;5;241;43m=\u001b[39;49m\u001b[43m{\u001b[49m\u001b[43m}\u001b[49m\u001b[43m,\u001b[49m\u001b[43m \u001b[49m\u001b[43mremoved\u001b[49m\u001b[38;5;241;43m=\u001b[39;49m\u001b[38;5;28;43mset\u001b[39;49m\u001b[43m(\u001b[49m\u001b[43mto_remove\u001b[49m\u001b[43m)\u001b[49m\u001b[43m)\u001b[49m\n",
      "File \u001b[0;32m~/anaconda3/envs/pynt/lib/python3.11/site-packages/napari/utils/events/containers/_selection.py:70\u001b[0m, in \u001b[0;36mSelection._emit_change\u001b[0;34m(self, added, removed)\u001b[0m\n\u001b[1;32m     68\u001b[0m     removed \u001b[38;5;241m=\u001b[39m \u001b[38;5;28mset\u001b[39m()\n\u001b[1;32m     69\u001b[0m \u001b[38;5;28mself\u001b[39m\u001b[38;5;241m.\u001b[39m_update_active()\n\u001b[0;32m---> 70\u001b[0m \u001b[38;5;28;01mreturn\u001b[39;00m \u001b[38;5;28;43msuper\u001b[39;49m\u001b[43m(\u001b[49m\u001b[43m)\u001b[49m\u001b[38;5;241;43m.\u001b[39;49m\u001b[43m_emit_change\u001b[49m\u001b[43m(\u001b[49m\u001b[43madded\u001b[49m\u001b[38;5;241;43m=\u001b[39;49m\u001b[43madded\u001b[49m\u001b[43m,\u001b[49m\u001b[43m \u001b[49m\u001b[43mremoved\u001b[49m\u001b[38;5;241;43m=\u001b[39;49m\u001b[43mremoved\u001b[49m\u001b[43m)\u001b[49m\n",
      "File \u001b[0;32m~/anaconda3/envs/pynt/lib/python3.11/site-packages/napari/utils/events/containers/_set.py:64\u001b[0m, in \u001b[0;36mEventedSet._emit_change\u001b[0;34m(self, added, removed)\u001b[0m\n\u001b[1;32m     62\u001b[0m \u001b[38;5;28;01mif\u001b[39;00m removed \u001b[38;5;129;01mis\u001b[39;00m \u001b[38;5;28;01mNone\u001b[39;00m:\n\u001b[1;32m     63\u001b[0m     removed \u001b[38;5;241m=\u001b[39m \u001b[38;5;28mset\u001b[39m()\n\u001b[0;32m---> 64\u001b[0m \u001b[38;5;28;43mself\u001b[39;49m\u001b[38;5;241;43m.\u001b[39;49m\u001b[43mevents\u001b[49m\u001b[38;5;241;43m.\u001b[39;49m\u001b[43mchanged\u001b[49m\u001b[43m(\u001b[49m\u001b[43madded\u001b[49m\u001b[38;5;241;43m=\u001b[39;49m\u001b[43madded\u001b[49m\u001b[43m,\u001b[49m\u001b[43m \u001b[49m\u001b[43mremoved\u001b[49m\u001b[38;5;241;43m=\u001b[39;49m\u001b[43mremoved\u001b[49m\u001b[43m)\u001b[49m\n",
      "File \u001b[0;32m~/anaconda3/envs/pynt/lib/python3.11/site-packages/napari/utils/events/event.py:763\u001b[0m, in \u001b[0;36mEventEmitter.__call__\u001b[0;34m(self, *args, **kwargs)\u001b[0m\n\u001b[1;32m    760\u001b[0m     \u001b[38;5;28mself\u001b[39m\u001b[38;5;241m.\u001b[39m_block_counter\u001b[38;5;241m.\u001b[39mupdate([cb])\n\u001b[1;32m    761\u001b[0m     \u001b[38;5;28;01mcontinue\u001b[39;00m\n\u001b[0;32m--> 763\u001b[0m \u001b[38;5;28;43mself\u001b[39;49m\u001b[38;5;241;43m.\u001b[39;49m\u001b[43m_invoke_callback\u001b[49m\u001b[43m(\u001b[49m\u001b[43mcb\u001b[49m\u001b[43m,\u001b[49m\u001b[43m \u001b[49m\u001b[43mevent\u001b[49m\u001b[43m \u001b[49m\u001b[38;5;28;43;01mif\u001b[39;49;00m\u001b[43m \u001b[49m\u001b[43mpass_event\u001b[49m\u001b[43m \u001b[49m\u001b[38;5;28;43;01melse\u001b[39;49;00m\u001b[43m \u001b[49m\u001b[38;5;28;43;01mNone\u001b[39;49;00m\u001b[43m)\u001b[49m\n\u001b[1;32m    764\u001b[0m \u001b[38;5;28;01mif\u001b[39;00m event\u001b[38;5;241m.\u001b[39mblocked:\n\u001b[1;32m    765\u001b[0m     \u001b[38;5;28;01mbreak\u001b[39;00m\n",
      "File \u001b[0;32m~/anaconda3/envs/pynt/lib/python3.11/site-packages/napari/utils/events/event.py:801\u001b[0m, in \u001b[0;36mEventEmitter._invoke_callback\u001b[0;34m(self, cb, event)\u001b[0m\n\u001b[1;32m    799\u001b[0m     \u001b[38;5;28mself\u001b[39m\u001b[38;5;241m.\u001b[39mdisconnect(cb)\n\u001b[1;32m    800\u001b[0m     \u001b[38;5;28;01mreturn\u001b[39;00m\n\u001b[0;32m--> 801\u001b[0m \u001b[43m_handle_exception\u001b[49m\u001b[43m(\u001b[49m\n\u001b[1;32m    802\u001b[0m \u001b[43m    \u001b[49m\u001b[38;5;28;43mself\u001b[39;49m\u001b[38;5;241;43m.\u001b[39;49m\u001b[43mignore_callback_errors\u001b[49m\u001b[43m,\u001b[49m\n\u001b[1;32m    803\u001b[0m \u001b[43m    \u001b[49m\u001b[38;5;28;43mself\u001b[39;49m\u001b[38;5;241;43m.\u001b[39;49m\u001b[43mprint_callback_errors\u001b[49m\u001b[43m,\u001b[49m\n\u001b[1;32m    804\u001b[0m \u001b[43m    \u001b[49m\u001b[38;5;28;43mself\u001b[39;49m\u001b[43m,\u001b[49m\n\u001b[1;32m    805\u001b[0m \u001b[43m    \u001b[49m\u001b[43mcb_event\u001b[49m\u001b[38;5;241;43m=\u001b[39;49m\u001b[43m(\u001b[49m\u001b[43mcb\u001b[49m\u001b[43m,\u001b[49m\u001b[43m \u001b[49m\u001b[43mevent\u001b[49m\u001b[43m)\u001b[49m\u001b[43m,\u001b[49m\n\u001b[1;32m    806\u001b[0m \u001b[43m\u001b[49m\u001b[43m)\u001b[49m\n",
      "File \u001b[0;32m~/anaconda3/envs/pynt/lib/python3.11/site-packages/napari/utils/events/event.py:788\u001b[0m, in \u001b[0;36mEventEmitter._invoke_callback\u001b[0;34m(self, cb, event)\u001b[0m\n\u001b[1;32m    786\u001b[0m \u001b[38;5;28;01mtry\u001b[39;00m:\n\u001b[1;32m    787\u001b[0m     \u001b[38;5;28;01mif\u001b[39;00m event \u001b[38;5;129;01mis\u001b[39;00m \u001b[38;5;129;01mnot\u001b[39;00m \u001b[38;5;28;01mNone\u001b[39;00m:\n\u001b[0;32m--> 788\u001b[0m         \u001b[43mcb\u001b[49m\u001b[43m(\u001b[49m\u001b[43mevent\u001b[49m\u001b[43m)\u001b[49m\n\u001b[1;32m    789\u001b[0m     \u001b[38;5;28;01melse\u001b[39;00m:\n\u001b[1;32m    790\u001b[0m         cb()\n",
      "File \u001b[0;32m~/anaconda3/envs/pynt/lib/python3.11/site-packages/napari/components/layerlist.py:93\u001b[0m, in \u001b[0;36mLayerList._on_selection_changed\u001b[0;34m(self, event)\u001b[0m\n\u001b[1;32m     91\u001b[0m     layer\u001b[38;5;241m.\u001b[39m_on_selection(\u001b[38;5;28;01mTrue\u001b[39;00m)\n\u001b[1;32m     92\u001b[0m \u001b[38;5;28;01mfor\u001b[39;00m layer \u001b[38;5;129;01min\u001b[39;00m event\u001b[38;5;241m.\u001b[39mremoved:\n\u001b[0;32m---> 93\u001b[0m     \u001b[43mlayer\u001b[49m\u001b[38;5;241;43m.\u001b[39;49m\u001b[43m_on_selection\u001b[49m\u001b[43m(\u001b[49m\u001b[38;5;28;43;01mFalse\u001b[39;49;00m\u001b[43m)\u001b[49m\n",
      "File \u001b[0;32m~/anaconda3/envs/pynt/lib/python3.11/site-packages/napari/layers/shapes/shapes.py:718\u001b[0m, in \u001b[0;36mShapes._on_selection\u001b[0;34m(self, selected)\u001b[0m\n\u001b[1;32m    715\u001b[0m \u001b[38;5;28;01mdef\u001b[39;00m \u001b[38;5;21m_on_selection\u001b[39m(\u001b[38;5;28mself\u001b[39m, selected: \u001b[38;5;28mbool\u001b[39m):\n\u001b[1;32m    716\u001b[0m     \u001b[38;5;66;03m# this method is slated for removal.  don't add anything new.\u001b[39;00m\n\u001b[1;32m    717\u001b[0m     \u001b[38;5;28;01mif\u001b[39;00m \u001b[38;5;129;01mnot\u001b[39;00m selected:\n\u001b[0;32m--> 718\u001b[0m         \u001b[38;5;28;43mself\u001b[39;49m\u001b[38;5;241;43m.\u001b[39;49m\u001b[43m_finish_drawing\u001b[49m\u001b[43m(\u001b[49m\u001b[43m)\u001b[49m\n",
      "File \u001b[0;32m~/anaconda3/envs/pynt/lib/python3.11/site-packages/napari/layers/shapes/shapes.py:2587\u001b[0m, in \u001b[0;36mShapes._finish_drawing\u001b[0;34m(self, event)\u001b[0m\n\u001b[1;32m   2580\u001b[0m     \u001b[38;5;28mself\u001b[39m\u001b[38;5;241m.\u001b[39mevents\u001b[38;5;241m.\u001b[39mdata(\n\u001b[1;32m   2581\u001b[0m         value\u001b[38;5;241m=\u001b[39m\u001b[38;5;28mself\u001b[39m\u001b[38;5;241m.\u001b[39mdata,\n\u001b[1;32m   2582\u001b[0m         action\u001b[38;5;241m=\u001b[39mActionType\u001b[38;5;241m.\u001b[39mADDED,\n\u001b[1;32m   2583\u001b[0m         data_indices\u001b[38;5;241m=\u001b[39m(\u001b[38;5;241m-\u001b[39m\u001b[38;5;241m1\u001b[39m,),\n\u001b[1;32m   2584\u001b[0m         vertex_indices\u001b[38;5;241m=\u001b[39m((),),\n\u001b[1;32m   2585\u001b[0m     )\n\u001b[1;32m   2586\u001b[0m \u001b[38;5;28mself\u001b[39m\u001b[38;5;241m.\u001b[39m_is_creating \u001b[38;5;241m=\u001b[39m \u001b[38;5;28;01mFalse\u001b[39;00m\n\u001b[0;32m-> 2587\u001b[0m \u001b[38;5;28;43mself\u001b[39;49m\u001b[38;5;241;43m.\u001b[39;49m\u001b[43m_update_dims\u001b[49m\u001b[43m(\u001b[49m\u001b[43m)\u001b[49m\n",
      "File \u001b[0;32m~/anaconda3/envs/pynt/lib/python3.11/site-packages/napari/layers/base/base.py:780\u001b[0m, in \u001b[0;36mLayer._update_dims\u001b[0;34m(self)\u001b[0m\n\u001b[1;32m    776\u001b[0m \u001b[38;5;28mself\u001b[39m\u001b[38;5;241m.\u001b[39m_slice_input \u001b[38;5;241m=\u001b[39m \u001b[38;5;28mself\u001b[39m\u001b[38;5;241m.\u001b[39m_slice_input\u001b[38;5;241m.\u001b[39mwith_ndim(ndim)\n\u001b[1;32m    778\u001b[0m \u001b[38;5;28mself\u001b[39m\u001b[38;5;241m.\u001b[39m_ndim \u001b[38;5;241m=\u001b[39m ndim\n\u001b[0;32m--> 780\u001b[0m \u001b[38;5;28;43mself\u001b[39;49m\u001b[38;5;241;43m.\u001b[39;49m\u001b[43m_clear_extent\u001b[49m\u001b[43m(\u001b[49m\u001b[43m)\u001b[49m\n",
      "File \u001b[0;32m~/anaconda3/envs/pynt/lib/python3.11/site-packages/napari/layers/base/base.py:854\u001b[0m, in \u001b[0;36mLayer._clear_extent\u001b[0;34m(self)\u001b[0m\n\u001b[1;32m    852\u001b[0m     \u001b[38;5;28;01mdel\u001b[39;00m \u001b[38;5;28mself\u001b[39m\u001b[38;5;241m.\u001b[39mextent\n\u001b[1;32m    853\u001b[0m \u001b[38;5;28mself\u001b[39m\u001b[38;5;241m.\u001b[39mevents\u001b[38;5;241m.\u001b[39mextent()\n\u001b[0;32m--> 854\u001b[0m \u001b[38;5;28;43mself\u001b[39;49m\u001b[38;5;241;43m.\u001b[39;49m\u001b[43mrefresh\u001b[49m\u001b[43m(\u001b[49m\u001b[43m)\u001b[49m\n",
      "File \u001b[0;32m~/anaconda3/envs/pynt/lib/python3.11/site-packages/napari/layers/base/base.py:1297\u001b[0m, in \u001b[0;36mLayer.refresh\u001b[0;34m(self, event)\u001b[0m\n\u001b[1;32m   1295\u001b[0m \u001b[38;5;250m\u001b[39m\u001b[38;5;124;03m\"\"\"Refresh all layer data based on current view slice.\"\"\"\u001b[39;00m\n\u001b[1;32m   1296\u001b[0m \u001b[38;5;28;01mif\u001b[39;00m \u001b[38;5;28mself\u001b[39m\u001b[38;5;241m.\u001b[39mvisible:\n\u001b[0;32m-> 1297\u001b[0m     \u001b[38;5;28;43mself\u001b[39;49m\u001b[38;5;241;43m.\u001b[39;49m\u001b[43mset_view_slice\u001b[49m\u001b[43m(\u001b[49m\u001b[43m)\u001b[49m\n\u001b[1;32m   1298\u001b[0m     \u001b[38;5;28mself\u001b[39m\u001b[38;5;241m.\u001b[39mevents\u001b[38;5;241m.\u001b[39mset_data()\n\u001b[1;32m   1299\u001b[0m     \u001b[38;5;28mself\u001b[39m\u001b[38;5;241m.\u001b[39m_update_thumbnail()\n",
      "File \u001b[0;32m~/anaconda3/envs/pynt/lib/python3.11/site-packages/napari/layers/base/base.py:1062\u001b[0m, in \u001b[0;36mLayer.set_view_slice\u001b[0;34m(self)\u001b[0m\n\u001b[1;32m   1060\u001b[0m \u001b[38;5;28;01mdef\u001b[39;00m \u001b[38;5;21mset_view_slice\u001b[39m(\u001b[38;5;28mself\u001b[39m):\n\u001b[1;32m   1061\u001b[0m     \u001b[38;5;28;01mwith\u001b[39;00m \u001b[38;5;28mself\u001b[39m\u001b[38;5;241m.\u001b[39mdask_optimized_slicing():\n\u001b[0;32m-> 1062\u001b[0m         \u001b[38;5;28;43mself\u001b[39;49m\u001b[38;5;241;43m.\u001b[39;49m\u001b[43m_set_view_slice\u001b[49m\u001b[43m(\u001b[49m\u001b[43m)\u001b[49m\n",
      "File \u001b[0;32m~/anaconda3/envs/pynt/lib/python3.11/site-packages/napari/layers/shapes/shapes.py:2332\u001b[0m, in \u001b[0;36mShapes._set_view_slice\u001b[0;34m(self)\u001b[0m\n\u001b[1;32m   2330\u001b[0m \u001b[38;5;28;01mif\u001b[39;00m \u001b[38;5;28mself\u001b[39m\u001b[38;5;241m.\u001b[39m_slice_input\u001b[38;5;241m.\u001b[39morder \u001b[38;5;241m!=\u001b[39m \u001b[38;5;28mself\u001b[39m\u001b[38;5;241m.\u001b[39m_display_order_stored:\n\u001b[1;32m   2331\u001b[0m     \u001b[38;5;28mself\u001b[39m\u001b[38;5;241m.\u001b[39mselected_data \u001b[38;5;241m=\u001b[39m \u001b[38;5;28mset\u001b[39m()\n\u001b[0;32m-> 2332\u001b[0m     \u001b[38;5;28;43mself\u001b[39;49m\u001b[38;5;241;43m.\u001b[39;49m\u001b[43m_data_view\u001b[49m\u001b[38;5;241;43m.\u001b[39;49m\u001b[43mupdate_dims_order\u001b[49m\u001b[43m(\u001b[49m\u001b[38;5;28;43mself\u001b[39;49m\u001b[38;5;241;43m.\u001b[39;49m\u001b[43m_slice_input\u001b[49m\u001b[38;5;241;43m.\u001b[39;49m\u001b[43morder\u001b[49m\u001b[43m)\u001b[49m\n\u001b[1;32m   2333\u001b[0m     \u001b[38;5;28mself\u001b[39m\u001b[38;5;241m.\u001b[39m_display_order_stored \u001b[38;5;241m=\u001b[39m copy(\u001b[38;5;28mself\u001b[39m\u001b[38;5;241m.\u001b[39m_slice_input\u001b[38;5;241m.\u001b[39morder)\n\u001b[1;32m   2334\u001b[0m     \u001b[38;5;66;03m# Clear clipboard if dimensions swap\u001b[39;00m\n",
      "File \u001b[0;32m~/anaconda3/envs/pynt/lib/python3.11/site-packages/napari/layers/shapes/_shape_list.py:840\u001b[0m, in \u001b[0;36mShapeList.update_dims_order\u001b[0;34m(self, dims_order)\u001b[0m\n\u001b[1;32m    838\u001b[0m         shape\u001b[38;5;241m.\u001b[39mdims_order \u001b[38;5;241m=\u001b[39m dims_order\n\u001b[1;32m    839\u001b[0m         \u001b[38;5;28mself\u001b[39m\u001b[38;5;241m.\u001b[39mremove(index, renumber\u001b[38;5;241m=\u001b[39m\u001b[38;5;28;01mFalse\u001b[39;00m)\n\u001b[0;32m--> 840\u001b[0m         \u001b[38;5;28;43mself\u001b[39;49m\u001b[38;5;241;43m.\u001b[39;49m\u001b[43madd\u001b[49m\u001b[43m(\u001b[49m\u001b[43mshape\u001b[49m\u001b[43m,\u001b[49m\u001b[43m \u001b[49m\u001b[43mshape_index\u001b[49m\u001b[38;5;241;43m=\u001b[39;49m\u001b[43mindex\u001b[49m\u001b[43m)\u001b[49m\n\u001b[1;32m    841\u001b[0m \u001b[38;5;28mself\u001b[39m\u001b[38;5;241m.\u001b[39m_update_z_order()\n",
      "File \u001b[0;32m~/anaconda3/envs/pynt/lib/python3.11/site-packages/napari/layers/shapes/_shape_list.py:259\u001b[0m, in \u001b[0;36mShapeList.add\u001b[0;34m(self, shape, face_color, edge_color, shape_index, z_refresh)\u001b[0m\n\u001b[1;32m    257\u001b[0m \u001b[38;5;66;03m# single shape mode\u001b[39;00m\n\u001b[1;32m    258\u001b[0m \u001b[38;5;28;01mif\u001b[39;00m \u001b[38;5;28missubclass\u001b[39m(\u001b[38;5;28mtype\u001b[39m(shape), Shape):\n\u001b[0;32m--> 259\u001b[0m     \u001b[38;5;28;43mself\u001b[39;49m\u001b[38;5;241;43m.\u001b[39;49m\u001b[43m_add_single_shape\u001b[49m\u001b[43m(\u001b[49m\n\u001b[1;32m    260\u001b[0m \u001b[43m        \u001b[49m\u001b[43mshape\u001b[49m\u001b[38;5;241;43m=\u001b[39;49m\u001b[43mshape\u001b[49m\u001b[43m,\u001b[49m\n\u001b[1;32m    261\u001b[0m \u001b[43m        \u001b[49m\u001b[43mface_color\u001b[49m\u001b[38;5;241;43m=\u001b[39;49m\u001b[43mface_color\u001b[49m\u001b[43m,\u001b[49m\n\u001b[1;32m    262\u001b[0m \u001b[43m        \u001b[49m\u001b[43medge_color\u001b[49m\u001b[38;5;241;43m=\u001b[39;49m\u001b[43medge_color\u001b[49m\u001b[43m,\u001b[49m\n\u001b[1;32m    263\u001b[0m \u001b[43m        \u001b[49m\u001b[43mshape_index\u001b[49m\u001b[38;5;241;43m=\u001b[39;49m\u001b[43mshape_index\u001b[49m\u001b[43m,\u001b[49m\n\u001b[1;32m    264\u001b[0m \u001b[43m        \u001b[49m\u001b[43mz_refresh\u001b[49m\u001b[38;5;241;43m=\u001b[39;49m\u001b[43mz_refresh\u001b[49m\u001b[43m,\u001b[49m\n\u001b[1;32m    265\u001b[0m \u001b[43m    \u001b[49m\u001b[43m)\u001b[49m\n\u001b[1;32m    266\u001b[0m \u001b[38;5;66;03m# multiple shape mode\u001b[39;00m\n\u001b[1;32m    267\u001b[0m \u001b[38;5;28;01melif\u001b[39;00m \u001b[38;5;28misinstance\u001b[39m(shape, Iterable):\n",
      "File \u001b[0;32m~/anaconda3/envs/pynt/lib/python3.11/site-packages/napari/layers/shapes/_shape_list.py:348\u001b[0m, in \u001b[0;36mShapeList._add_single_shape\u001b[0;34m(self, shape, face_color, edge_color, shape_index, z_refresh)\u001b[0m\n\u001b[1;32m    345\u001b[0m     \u001b[38;5;28;01melse\u001b[39;00m:\n\u001b[1;32m    346\u001b[0m         \u001b[38;5;28mself\u001b[39m\u001b[38;5;241m.\u001b[39m_edge_color[shape_index, :] \u001b[38;5;241m=\u001b[39m edge_color\n\u001b[0;32m--> 348\u001b[0m \u001b[38;5;28mself\u001b[39m\u001b[38;5;241m.\u001b[39m_vertices \u001b[38;5;241m=\u001b[39m \u001b[43mnp\u001b[49m\u001b[38;5;241;43m.\u001b[39;49m\u001b[43mappend\u001b[49m\u001b[43m(\u001b[49m\n\u001b[1;32m    349\u001b[0m \u001b[43m    \u001b[49m\u001b[38;5;28;43mself\u001b[39;49m\u001b[38;5;241;43m.\u001b[39;49m\u001b[43m_vertices\u001b[49m\u001b[43m,\u001b[49m\u001b[43m \u001b[49m\u001b[43mshape\u001b[49m\u001b[38;5;241;43m.\u001b[39;49m\u001b[43mdata_displayed\u001b[49m\u001b[43m,\u001b[49m\u001b[43m \u001b[49m\u001b[43maxis\u001b[49m\u001b[38;5;241;43m=\u001b[39;49m\u001b[38;5;241;43m0\u001b[39;49m\n\u001b[1;32m    350\u001b[0m \u001b[43m\u001b[49m\u001b[43m)\u001b[49m\n\u001b[1;32m    351\u001b[0m index \u001b[38;5;241m=\u001b[39m np\u001b[38;5;241m.\u001b[39mrepeat(shape_index, \u001b[38;5;28mlen\u001b[39m(shape\u001b[38;5;241m.\u001b[39mdata))\n\u001b[1;32m    352\u001b[0m \u001b[38;5;28mself\u001b[39m\u001b[38;5;241m.\u001b[39m_index \u001b[38;5;241m=\u001b[39m np\u001b[38;5;241m.\u001b[39mappend(\u001b[38;5;28mself\u001b[39m\u001b[38;5;241m.\u001b[39m_index, index, axis\u001b[38;5;241m=\u001b[39m\u001b[38;5;241m0\u001b[39m)\n",
      "File \u001b[0;32m~/anaconda3/envs/pynt/lib/python3.11/site-packages/numpy/lib/function_base.py:5618\u001b[0m, in \u001b[0;36mappend\u001b[0;34m(arr, values, axis)\u001b[0m\n\u001b[1;32m   5616\u001b[0m     values \u001b[38;5;241m=\u001b[39m ravel(values)\n\u001b[1;32m   5617\u001b[0m     axis \u001b[38;5;241m=\u001b[39m arr\u001b[38;5;241m.\u001b[39mndim\u001b[38;5;241m-\u001b[39m\u001b[38;5;241m1\u001b[39m\n\u001b[0;32m-> 5618\u001b[0m \u001b[38;5;28;01mreturn\u001b[39;00m \u001b[43mconcatenate\u001b[49m\u001b[43m(\u001b[49m\u001b[43m(\u001b[49m\u001b[43marr\u001b[49m\u001b[43m,\u001b[49m\u001b[43m \u001b[49m\u001b[43mvalues\u001b[49m\u001b[43m)\u001b[49m\u001b[43m,\u001b[49m\u001b[43m \u001b[49m\u001b[43maxis\u001b[49m\u001b[38;5;241;43m=\u001b[39;49m\u001b[43maxis\u001b[49m\u001b[43m)\u001b[49m\n",
      "\u001b[0;31mValueError\u001b[0m: all the input array dimensions except for the concatenation axis must match exactly, but along dimension 1, the array at index 0 has size 2 and the array at index 1 has size 3"
     ]
    }
   ],
   "source": [
    "shapes_layer = viewer.add_shapes()\n",
    "shapes_layer.add(zyx, shape_type='path')\n"
   ]
  },
  {
   "cell_type": "code",
   "execution_count": 18,
   "id": "46b19d29-cc24-4fa0-a9ea-2e8119999052",
   "metadata": {},
   "outputs": [
    {
     "data": {
      "text/plain": [
       "<Points layer 'zyx' at 0x7fcdf5a63b90>"
      ]
     },
     "execution_count": 18,
     "metadata": {},
     "output_type": "execute_result"
    }
   ],
   "source": [
    "zyx = df.get(['z_um','y_um','x_um']).values.astype('int')\n",
    "viewer.add_points(zyx)"
   ]
  },
  {
   "cell_type": "code",
   "execution_count": 20,
   "id": "768272ef-f851-4885-802e-a573889623b8",
   "metadata": {},
   "outputs": [
    {
     "data": {
      "text/plain": [
       "(29294, 3)"
      ]
     },
     "execution_count": 20,
     "metadata": {},
     "output_type": "execute_result"
    }
   ],
   "source": [
    "zyx.shape"
   ]
  },
  {
   "cell_type": "code",
   "execution_count": null,
   "id": "edd39358-8eb2-407b-98fd-e018ab5f7111",
   "metadata": {},
   "outputs": [],
   "source": [
    "shapes_l"
   ]
  }
 ],
 "metadata": {
  "kernelspec": {
   "display_name": "Python (pynt)",
   "language": "python",
   "name": "pynt"
  },
  "language_info": {
   "codemirror_mode": {
    "name": "ipython",
    "version": 3
   },
   "file_extension": ".py",
   "mimetype": "text/x-python",
   "name": "python",
   "nbconvert_exporter": "python",
   "pygments_lexer": "ipython3",
   "version": "3.11.8"
  }
 },
 "nbformat": 4,
 "nbformat_minor": 5
}
