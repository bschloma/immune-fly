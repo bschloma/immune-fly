{
 "cells": [
  {
   "cell_type": "code",
   "execution_count": 1,
   "id": "255df16d",
   "metadata": {},
   "outputs": [],
   "source": [
    "from elf.segmentation import run_GASP, GaspFromAffinities   \n",
    "from elf.segmentation.watershed import WatershedOnDistanceTransformFromAffinities\n",
    "from dexp.datasets import ZDataset                            \n",
    "import dask.array as da                                       \n",
    "from dask.diagnostics import ProgressBar                      \n",
    "from segmentation import make_boundaries, make_seeds, init_frangi_params, WS                      \n",
    "import napari                                                 \n",
    "import matplotlib.pyplot as plt                               "
   ]
  },
  {
   "cell_type": "code",
   "execution_count": 2,
   "id": "92b37183",
   "metadata": {},
   "outputs": [],
   "source": [
    "def run_gasp(affs):                              \n",
    "    seg, runtime = gasp_instance(affs)           \n",
    "                                                 \n",
    "    return seg                                   "
   ]
  },
  {
   "cell_type": "code",
   "execution_count": 3,
   "id": "6ea4399f",
   "metadata": {},
   "outputs": [
    {
     "name": "stdout",
     "output_type": "stream",
     "text": [
      "├ Configured the number of threads used by BLOSC: 8\n",
      "├ Opening existing Zarr storage: '/media/brandon/Data1/Brandon/fly_immune/Lightsheet_Z1/2022_02_24_uas-mcd8-gfp_r4-gal4_x_dipt_dtom2/ecoli_hs_gfp/larvae_1/crop_chk.zarr' with read/write mode: 'r' and store type: 'None'\n",
      "├ Opening as Directory store\n",
      "├ Opening with mode: r\n",
      "├ Exploring Zarr hierarchy...\n",
      "├ Found channel: dpt-red\n",
      "├ Found array: dpt-red\n",
      "├ Found array: dpt-red_projection_0\n",
      "├ Found array: dpt-red_projection_1\n",
      "├ Found array: dpt-red_projection_2\n",
      "├ Found channel: mem-green\n",
      "├ Found array: mem-green\n",
      "├ Found array: mem-green_projection_0\n",
      "├ Found array: mem-green_projection_1\n",
      "├ Found array: mem-green_projection_2\n"
     ]
    }
   ],
   "source": [
    "path_to_ds = r'/media/brandon/Data1/Brandon/fly_immune/Lightsheet_Z1/2022_02_24_uas-mcd8-gfp_r4-gal4_x_dipt_dtom2/ecoli_hs_gfp/larvae_1/crop_chk.zarr'                \n",
    "ds = ZDataset(path_to_ds, mode='r')                                                                                                                                   \n",
    "mem = ds.get_array('mem-green')                                                                                                                                       \n",
    "#mem_da = da.from_array(mem[0], chunks=(1, 8200, 2071))                                                                                                               \n",
    "mem_da = da.from_array(mem[0, 270:280, :1024, :1024], chunks=(1, 1024, 1024))                                                                                     \n",
    "                                                                                                                                                                      "
   ]
  },
  {
   "cell_type": "code",
   "execution_count": 4,
   "id": "51eaf517",
   "metadata": {},
   "outputs": [],
   "source": [
    "affinities = make_boundaries(mem_da)                                                                                    \n",
    "affinities = da.stack([affinities, affinities, affinities], axis=0)      \n",
    "seeds = make_seeds(mem_da)\n",
    "\n",
    "#with ProgressBar():\n",
    "    #affinities = affinities.compute()\n",
    "    #seeds = seeds.compute()"
   ]
  },
  {
   "cell_type": "code",
   "execution_count": 5,
   "id": "dac1262b",
   "metadata": {},
   "outputs": [],
   "source": [
    "offsets = [[-1, 0, 0], [0, -1, 0], [0, 0, -1]]                                                                              \n",
    "run_GASP_kwargs = {'linkage_criteria': 'average', 'add_cannot_link_constraints': False}     \n",
    "sp_gen = WS(seeds)\n",
    "#sp_gen = WatershedOnDistanceTransformFromAffinities(offsets, threshold=0.4, sigma_seeds=False, sigma_weights=False)\n",
    "gasp_instance = GaspFromAffinities(offsets, superpixel_generator=sp_gen, run_GASP_kwargs=run_GASP_kwargs)    \n",
    "                                                                                                   \n",
    "res = da.map_blocks(run_gasp, affinities, meta=affinities, dtype=affinities.dtype, drop_axis=0, chunks=mem_da.chunks)       \n",
    "                                                                                                                            "
   ]
  },
  {
   "cell_type": "code",
   "execution_count": 6,
   "id": "e7958ec4",
   "metadata": {},
   "outputs": [
    {
     "name": "stdout",
     "output_type": "stream",
     "text": [
      "[########################################] | 100% Completed |  1.3s\n"
     ]
    }
   ],
   "source": [
    "with ProgressBar():\n",
    "    res_out = res.compute()"
   ]
  },
  {
   "cell_type": "code",
   "execution_count": 7,
   "id": "2512e395",
   "metadata": {},
   "outputs": [
    {
     "data": {
      "text/plain": [
       "<Image layer 'affinities' at 0x7f83a4e55510>"
      ]
     },
     "execution_count": 7,
     "metadata": {},
     "output_type": "execute_result"
    }
   ],
   "source": [
    "viewer = napari.view_labels(res_out)\n",
    "viewer.add_image(mem_da)\n",
    "viewer.add_image(affinities)"
   ]
  },
  {
   "cell_type": "code",
   "execution_count": 25,
   "id": "3a9d8b72",
   "metadata": {},
   "outputs": [],
   "source": [
    "ds.close()"
   ]
  },
  {
   "cell_type": "code",
   "execution_count": null,
   "id": "507ccfa5",
   "metadata": {},
   "outputs": [],
   "source": []
  }
 ],
 "metadata": {
  "kernelspec": {
   "display_name": "Python (elf)",
   "language": "python",
   "name": "elf"
  },
  "language_info": {
   "codemirror_mode": {
    "name": "ipython",
    "version": 3
   },
   "file_extension": ".py",
   "mimetype": "text/x-python",
   "name": "python",
   "nbconvert_exporter": "python",
   "pygments_lexer": "ipython3",
   "version": "3.10.4"
  }
 },
 "nbformat": 4,
 "nbformat_minor": 5
}
