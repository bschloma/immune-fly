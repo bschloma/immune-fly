{
 "cells": [
  {
   "cell_type": "code",
   "execution_count": 1,
   "id": "805ecbd5",
   "metadata": {},
   "outputs": [],
   "source": [
    "import numpy as np\n",
    "import matplotlib.pyplot as plt\n",
    "import h5py\n",
    "import napari\n",
    "from scipy.sparse import issparse\n",
    "from scipy.stats import ranksums, false_discovery_control\n",
    "from tqdm import tqdm\n",
    "import pickle\n",
    "import pandas as pd\n",
    "from anndata import AnnData, read_h5ad\n",
    "import scanpy as sc"
   ]
  },
  {
   "cell_type": "code",
   "execution_count": 2,
   "id": "4eaa7bbe",
   "metadata": {},
   "outputs": [],
   "source": [
    "%matplotlib qt"
   ]
  },
  {
   "cell_type": "code",
   "execution_count": 3,
   "id": "1562c0c1",
   "metadata": {},
   "outputs": [],
   "source": [
    "def compute_pearson_residuals(X, theta=100.0, clip=None, \n",
    "                              copy=False, return_params=False):\n",
    "    \"\"\"from dynamo-release\"\"\"\n",
    "\n",
    "    \"\"\"Compute Pearson residuals from count data.\n",
    "\n",
    "    Pearson residuals are a measure of the deviation of observed counts from expected counts under a Poisson or negative\n",
    "    binomial model.\n",
    "\n",
    "    Args:\n",
    "        X: array_like count matrix, shape (n_cells, n_genes).\n",
    "        theta: the dispersion parameter for the negative binomial model. Must be positive.\n",
    "        clip: The maximum absolute value of the residuals. Residuals with absolute value larger than `clip` are clipped\n",
    "            to `clip`. If `None`,`clip` is set to the square root of the number of cells in `X`.\n",
    "        check_values: whether to check if `X` contains non-negative integers. If `True` and non-integer values are\n",
    "            found, a `UserWarning` is issued.\n",
    "        copy: whether to make a copy of `X`.\n",
    "\n",
    "    Returns:\n",
    "        The Pearson residuals.\n",
    "    \"\"\"\n",
    "    X = X.copy() if copy else X\n",
    "\n",
    "    # check theta\n",
    "    if theta <= 0:\n",
    "        # TODO: would \"underdispersion\" with negative theta make sense?\n",
    "        # then only theta=0 were undefined..\n",
    "        raise ValueError(\"Pearson residuals require theta > 0\")\n",
    "    # prepare clipping\n",
    "    if clip is None:\n",
    "        n = X.shape[0]\n",
    "        clip = np.sqrt(n)\n",
    "    if clip < 0:\n",
    "        raise ValueError(\"Pearson residuals require `clip>=0` or `clip=None`.\")\n",
    "\n",
    "    if issparse(X):\n",
    "        sums_genes = np.sum(X, axis=0)\n",
    "        sums_cells = np.sum(X, axis=1)\n",
    "        sum_total = np.sum(sums_genes).squeeze()\n",
    "    else:\n",
    "        sums_genes = np.sum(X, axis=0, keepdims=True)\n",
    "        sums_cells = np.sum(X, axis=1, keepdims=True)\n",
    "        sum_total = np.sum(sums_genes)\n",
    "\n",
    "    mu = np.array(sums_cells @ sums_genes / sum_total)\n",
    "    diff = np.array(X - mu)\n",
    "    residuals = diff / np.sqrt(mu + mu**2 / theta)\n",
    "\n",
    "    # clip\n",
    "    residuals = np.clip(residuals, a_min=-clip, a_max=clip)\n",
    "    \n",
    "    if return_params:\n",
    "        sigma = np.sqrt(mu + mu**2 / theta)\n",
    "        return residuals, mu, sigma\n",
    "    else:\n",
    "        return residuals\n",
    "\n",
    "\n",
    "def bin_aps(aps, bins):\n",
    "    _counts, bins = np.histogram(aps, bins)\n",
    "    bins = bins[1:]\n",
    "    binned_aps = np.zeros_like(aps)\n",
    "    for i in range(len(binned_aps)):\n",
    "        binned_aps[i] = get_ap_bin(aps[i], bins)\n",
    "    \n",
    "    return binned_aps\n",
    "    \n",
    "\n",
    "def get_ap_bin(this_ap, bins):\n",
    "    this_bin = np.where(np.abs(this_ap - bins) == np.nanmin(np.abs(this_ap - bins)))[0][0]\n",
    "\n",
    "    return this_bin\n",
    "\n"
   ]
  },
  {
   "cell_type": "code",
   "execution_count": 5,
   "id": "192ce92d",
   "metadata": {},
   "outputs": [
    {
     "data": {
      "text/plain": [
       "<KeysViewHDF5 ['X', 'layers', 'obs', 'obsm', 'uns', 'var']>"
      ]
     },
     "execution_count": 5,
     "metadata": {},
     "output_type": "execute_result"
    }
   ],
   "source": [
    "\"\"\"load the anndata file\"\"\"\n",
    "file_path = r'/media/brandon/Data2/Brandon/fly_immune/Flysta3d/L3_b_count_normal_stereoseq.h5ad'\n",
    "f = h5py.File(file_path, 'r')\n",
    "f.keys()"
   ]
  },
  {
   "cell_type": "code",
   "execution_count": 6,
   "id": "b18c6452-344b-423d-80b8-576d1495d5c0",
   "metadata": {},
   "outputs": [],
   "source": [
    "\"\"\"extract the raw reads and processes\"\"\"\n",
    "raw_reads =  np.array(f['layers'].get('raw_counts'))\n",
    "\n",
    "# filter reads to 5% detection\n",
    "detection_percent = np.sum(raw_reads > 0, axis=0) / len(raw_reads)\n",
    "filter_sel = detection_percent > 0.05\n",
    "filtered_reads = raw_reads[:, filter_sel]\n",
    "\n",
    "# convert to pearson residuals\n",
    "#residuals = compute_pearson_residuals(filtered_reads, theta=10)\n"
   ]
  },
  {
   "cell_type": "code",
   "execution_count": 7,
   "id": "0baf2328",
   "metadata": {},
   "outputs": [],
   "source": [
    "\"\"\"get selection of just fat body cells\"\"\"\n",
    "a = np.array(f['obs'].get('annotation'))\n",
    "sel = (a == 4)"
   ]
  },
  {
   "cell_type": "code",
   "execution_count": 170,
   "id": "a21d0431-c7f6-46f2-af90-f04cdfe824dd",
   "metadata": {},
   "outputs": [],
   "source": [
    "adata = read_h5ad(file_path)"
   ]
  },
  {
   "cell_type": "code",
   "execution_count": 9,
   "id": "298fd64e-4b4e-4f41-97ac-2170e1298bb2",
   "metadata": {},
   "outputs": [],
   "source": [
    "fb = adata[sel, filter_sel].copy()"
   ]
  },
  {
   "cell_type": "code",
   "execution_count": 10,
   "id": "980a6eac-7b2c-460a-bd95-258c0d624577",
   "metadata": {},
   "outputs": [],
   "source": [
    "sc.tl.pca(fb)"
   ]
  },
  {
   "cell_type": "code",
   "execution_count": 49,
   "id": "dda37e2e-5192-44ac-8ada-34d67bd6d37f",
   "metadata": {},
   "outputs": [],
   "source": [
    "sc.pl.pca_variance_ratio(fb, n_pcs=50, log=True)"
   ]
  },
  {
   "cell_type": "code",
   "execution_count": 11,
   "id": "74bb3ea2-87e8-49e7-8eb4-e03490c3a770",
   "metadata": {},
   "outputs": [
    {
     "name": "stderr",
     "output_type": "stream",
     "text": [
      "/home/brandon/anaconda3/envs/scanpy/lib/python3.12/site-packages/tqdm/auto.py:21: TqdmWarning: IProgress not found. Please update jupyter and ipywidgets. See https://ipywidgets.readthedocs.io/en/stable/user_install.html\n",
      "  from .autonotebook import tqdm as notebook_tqdm\n"
     ]
    }
   ],
   "source": [
    "sc.pp.neighbors(fb)"
   ]
  },
  {
   "cell_type": "code",
   "execution_count": 12,
   "id": "925f3e49-92d5-4cd5-a25b-b6ac3854609a",
   "metadata": {},
   "outputs": [],
   "source": [
    "sc.tl.umap(fb)"
   ]
  },
  {
   "cell_type": "code",
   "execution_count": 13,
   "id": "8a9ed9f8-6df4-4e3e-b7ab-d86454d42b59",
   "metadata": {},
   "outputs": [
    {
     "name": "stderr",
     "output_type": "stream",
     "text": [
      "/tmp/ipykernel_3332730/106880534.py:1: FutureWarning: In the future, the default backend for leiden will be igraph instead of leidenalg.\n",
      "\n",
      " To achieve the future defaults please pass: flavor=\"igraph\" and n_iterations=2.  directed must also be False to work with igraph's implementation.\n",
      "  sc.tl.leiden(fb, n_iterations=2)\n"
     ]
    }
   ],
   "source": [
    "sc.tl.leiden(fb, n_iterations=2)"
   ]
  },
  {
   "cell_type": "code",
   "execution_count": 14,
   "id": "ae5e33cf-2b2a-4a26-b3d8-3d8d41380cfa",
   "metadata": {},
   "outputs": [],
   "source": [
    "sc.pl.umap(fb, color='leiden')"
   ]
  },
  {
   "cell_type": "code",
   "execution_count": 67,
   "id": "56354ba7-4563-49b8-9287-c4bd875b6f61",
   "metadata": {},
   "outputs": [],
   "source": [
    "sc.pl.umap(fb, color=[\"TotA\"])"
   ]
  },
  {
   "cell_type": "code",
   "execution_count": 21,
   "id": "e99d1a57-0a5e-4ca9-a4cf-64beafc242a8",
   "metadata": {},
   "outputs": [],
   "source": [
    "sc.pl.umap(fb, color=[\"new_y\"], cmap='viridis')"
   ]
  },
  {
   "cell_type": "code",
   "execution_count": 18,
   "id": "cc6a2d82-db0c-494e-b4bd-de3ecfb75ea3",
   "metadata": {},
   "outputs": [],
   "source": [
    "# parameters for ap bins\n",
    "n_y_bins = 10\n",
    "ys = np.array(fb.obs['new_y'])\n",
    "y_bins = np.linspace(np.min(ys), np.max(ys), n_y_bins)\n",
    "binned_ys = bin_aps(ys, y_bins)"
   ]
  },
  {
   "cell_type": "code",
   "execution_count": 27,
   "id": "1430df7c-bbf2-4f57-ae0f-f1c6000ed660",
   "metadata": {},
   "outputs": [
    {
     "data": {
      "text/plain": [
       "array([-178.21475  ,  -87.6591625,    2.896425 ,   93.4520125,\n",
       "        184.0076   ])"
      ]
     },
     "execution_count": 27,
     "metadata": {},
     "output_type": "execute_result"
    }
   ],
   "source": [
    "y_bins"
   ]
  },
  {
   "cell_type": "code",
   "execution_count": 19,
   "id": "116fb32a-9849-4d71-8bed-cb0563883d65",
   "metadata": {},
   "outputs": [],
   "source": [
    "fb.obs['binned_y'] = binned_ys"
   ]
  },
  {
   "cell_type": "code",
   "execution_count": 176,
   "id": "757946a2-e388-41bc-bdc0-47189b79adea",
   "metadata": {},
   "outputs": [],
   "source": [
    "sc.pl.umap(fb, color=[\"binned_y\"], cmap='viridis')"
   ]
  },
  {
   "cell_type": "code",
   "execution_count": 51,
   "id": "c96c5c09-3f33-42e6-9ff2-6b222201174c",
   "metadata": {},
   "outputs": [],
   "source": [
    "# for g in fb.var.index:\n",
    "#     print(g)"
   ]
  },
  {
   "cell_type": "code",
   "execution_count": 115,
   "id": "f0dd14bb-4c66-4cea-a5e2-db57003ebdf4",
   "metadata": {},
   "outputs": [
    {
     "data": {
      "text/html": [
       "<div>\n",
       "<style scoped>\n",
       "    .dataframe tbody tr th:only-of-type {\n",
       "        vertical-align: middle;\n",
       "    }\n",
       "\n",
       "    .dataframe tbody tr th {\n",
       "        vertical-align: top;\n",
       "    }\n",
       "\n",
       "    .dataframe thead th {\n",
       "        text-align: right;\n",
       "    }\n",
       "</style>\n",
       "<table border=\"1\" class=\"dataframe\">\n",
       "  <thead>\n",
       "    <tr style=\"text-align: right;\">\n",
       "      <th></th>\n",
       "    </tr>\n",
       "    <tr>\n",
       "      <th>geneID</th>\n",
       "    </tr>\n",
       "  </thead>\n",
       "  <tbody>\n",
       "    <tr>\n",
       "      <th>128up</th>\n",
       "    </tr>\n",
       "    <tr>\n",
       "      <th>14-3-3epsilon</th>\n",
       "    </tr>\n",
       "    <tr>\n",
       "      <th>14-3-3zeta</th>\n",
       "    </tr>\n",
       "    <tr>\n",
       "      <th>18SrRNA-Psi:CR41602</th>\n",
       "    </tr>\n",
       "    <tr>\n",
       "      <th>26-29-p</th>\n",
       "    </tr>\n",
       "    <tr>\n",
       "      <th>...</th>\n",
       "    </tr>\n",
       "    <tr>\n",
       "      <th>zetaTry</th>\n",
       "    </tr>\n",
       "    <tr>\n",
       "      <th>zf30C</th>\n",
       "    </tr>\n",
       "    <tr>\n",
       "      <th>zip</th>\n",
       "    </tr>\n",
       "    <tr>\n",
       "      <th>zormin</th>\n",
       "    </tr>\n",
       "    <tr>\n",
       "      <th>zye</th>\n",
       "    </tr>\n",
       "  </tbody>\n",
       "</table>\n",
       "<p>6505 rows × 0 columns</p>\n",
       "</div>"
      ],
      "text/plain": [
       "Empty DataFrame\n",
       "Columns: []\n",
       "Index: [128up, 14-3-3epsilon, 14-3-3zeta, 18SrRNA-Psi:CR41602, 26-29-p, 28SrRNA-Psi:CR40596, 28SrRNA-Psi:CR40741, 28SrRNA-Psi:CR41609, 28SrRNA-Psi:CR45851, 28SrRNA-Psi:CR45855, 28SrRNA-Psi:CR45859, 28SrRNA-Psi:CR45860, 28SrRNA-Psi:CR45862, 312, 4E-T, 7B2, 7SLRNA:CR32864, 7SLRNA:CR42652, A16, AANAT1, AANATL2, ABCB7, ABCD, ACC, ACXC, ADD1, AGBE, AGO1, AGO2, AGO3, AIF, AIMP1, AIMP2, AIMP3, ALiX, AMPKalpha, AMPdeam, AOX1, AOX3, AP-1-2beta, AP-1gamma, AP-1mu, AP-1sigma, AP-2alpha, AP-2mu, AP-2sigma, APP-BP1, ASPP, ATP6AP2, ATP7, ATP8A, ATPCL, ATPsynB, ATPsynC, ATPsynCF6, ATPsynCF6L, ATPsynD, ATPsynE, ATPsynF, ATPsynG, ATPsynGL, ATPsynO, ATPsynbeta, ATPsyndelta, ATPsynepsilonL, ATPsyngamma, Abi, Abl, Abp1, AcCoAS, Acam, Acbp1, Acbp2, Acbp3, Acbp4, Acbp5, Acbp6, Ace, Acer, Ack, Acn, Acph-1, Acsl, Act42A, Act57B, Act5C, Act87E, Actn, Acyp, Acyp2, AdSL, AdSS, Ada2a, Adat1, AdenoK, Adf1, Adgf-A2, Adgf-D, Adgf-E, Adh, ...]\n",
       "\n",
       "[6505 rows x 0 columns]"
      ]
     },
     "execution_count": 115,
     "metadata": {},
     "output_type": "execute_result"
    }
   ],
   "source": [
    "fb.var"
   ]
  },
  {
   "cell_type": "markdown",
   "id": "612bbe13-5b70-4065-aca9-d0fe0fd23bde",
   "metadata": {},
   "source": [
    "## Identify differentially expressed genes as markers"
   ]
  },
  {
   "cell_type": "code",
   "execution_count": 61,
   "id": "e0896fb6-4aab-4707-8212-dc57171d8a38",
   "metadata": {},
   "outputs": [],
   "source": [
    "res = 0.02\n",
    "sc.tl.leiden(\n",
    "        fb, key_added=f\"leiden_res_{res:4.2f}\", resolution=res, flavor=\"igraph\"\n",
    "    )"
   ]
  },
  {
   "cell_type": "code",
   "execution_count": 63,
   "id": "cb9de821-30b8-4528-9429-f3bb8241db80",
   "metadata": {},
   "outputs": [],
   "source": [
    "sc.pl.umap(fb, color='leiden_res_0.02')"
   ]
  },
  {
   "cell_type": "code",
   "execution_count": 64,
   "id": "ad3af0d1-e6d9-490b-8433-aa357d1e6321",
   "metadata": {},
   "outputs": [],
   "source": [
    "sc.tl.rank_genes_groups(fb, groupby=\"leiden_res_0.02\", method=\"wilcoxon\")"
   ]
  },
  {
   "cell_type": "code",
   "execution_count": 65,
   "id": "ef290cee-1c7c-423b-95a7-d8fe8b615d4d",
   "metadata": {},
   "outputs": [
    {
     "name": "stdout",
     "output_type": "stream",
     "text": [
      "WARNING: dendrogram data not found (using key=dendrogram_leiden_res_0.02). Running `sc.tl.dendrogram` with default parameters. For fine tuning it is recommended to run `sc.tl.dendrogram` independently.\n"
     ]
    }
   ],
   "source": [
    "sc.pl.rank_genes_groups_dotplot(\n",
    "    fb, groupby=\"leiden_res_0.02\", standard_scale=\"var\", n_genes=5\n",
    ")"
   ]
  },
  {
   "cell_type": "markdown",
   "id": "23e5c1e6-4681-4e63-aa79-f43df4bf5ad5",
   "metadata": {},
   "source": [
    "## Let's try to compute pearson residuals by hand"
   ]
  },
  {
   "cell_type": "code",
   "execution_count": 126,
   "id": "f76b01d9-d0e4-4521-b222-285707e0b0cc",
   "metadata": {},
   "outputs": [],
   "source": [
    "filtered_data = adata[:, filter_sel].copy()"
   ]
  },
  {
   "cell_type": "code",
   "execution_count": 127,
   "id": "4117d6b0-c041-41ed-9256-f333a172de73",
   "metadata": {},
   "outputs": [
    {
     "name": "stderr",
     "output_type": "stream",
     "text": [
      "/tmp/ipykernel_3557772/4140725622.py:47: RuntimeWarning: invalid value encountered in divide\n",
      "  residuals = diff / np.sqrt(mu + mu**2 / theta)\n"
     ]
    }
   ],
   "source": [
    "filtered_data.X = compute_pearson_residuals(filtered_data.layers['raw_counts'], theta=50)"
   ]
  },
  {
   "cell_type": "code",
   "execution_count": 217,
   "id": "32c5198b-f5e7-48de-a03c-de3dc720627c",
   "metadata": {},
   "outputs": [
    {
     "data": {
      "text/plain": [
       "Text(0, 0.5, 'var pearson residual')"
      ]
     },
     "execution_count": 217,
     "metadata": {},
     "output_type": "execute_result"
    }
   ],
   "source": [
    "plt.figure()\n",
    "plt.plot(np.nanmean(filtered_data.layers['raw_counts'], axis=0), np.nanvar(filtered_data.X, axis=0), 'ko', alpha=0.2)\n",
    "plt.xscale('log')\n",
    "plt.yscale('linear')\n",
    "plt.xlabel('mean count')\n",
    "plt.ylabel('var pearson residual')\n"
   ]
  },
  {
   "cell_type": "code",
   "execution_count": 148,
   "id": "8e3d0391-4456-454a-9bae-99f5b4efc37c",
   "metadata": {},
   "outputs": [],
   "source": [
    "res_fb = filtered_data[sel].copy()"
   ]
  },
  {
   "cell_type": "code",
   "execution_count": null,
   "id": "3ecc5f02-80c5-4700-8e76-aab5d082bb80",
   "metadata": {},
   "outputs": [],
   "source": []
  },
  {
   "cell_type": "code",
   "execution_count": 149,
   "id": "5113b370-2ed8-4213-a43f-31cac1abb162",
   "metadata": {},
   "outputs": [],
   "source": [
    "sc.tl.pca(res_fb)\n",
    "sc.pp.neighbors(res_fb)\n",
    "sc.tl.umap(res_fb)\n",
    "sc.tl.leiden(res_fb, n_iterations=2, resolution=0.03, flavor='igraph')"
   ]
  },
  {
   "cell_type": "code",
   "execution_count": 133,
   "id": "08e31a52-4360-4a6f-a510-7c6816feecf6",
   "metadata": {},
   "outputs": [],
   "source": [
    "sc.pl.umap(res_fb, color='leiden')"
   ]
  },
  {
   "cell_type": "code",
   "execution_count": 150,
   "id": "b781a4da-fa4b-44a5-945f-d9f22c40877d",
   "metadata": {},
   "outputs": [
    {
     "name": "stderr",
     "output_type": "stream",
     "text": [
      "/home/brandon/anaconda3/envs/scanpy/lib/python3.12/site-packages/scanpy/tools/_rank_genes_groups.py:455: RuntimeWarning: invalid value encountered in log2\n",
      "  self.stats[group_name, \"logfoldchanges\"] = np.log2(\n",
      "/home/brandon/anaconda3/envs/scanpy/lib/python3.12/site-packages/scanpy/tools/_rank_genes_groups.py:455: RuntimeWarning: invalid value encountered in log2\n",
      "  self.stats[group_name, \"logfoldchanges\"] = np.log2(\n",
      "/home/brandon/anaconda3/envs/scanpy/lib/python3.12/site-packages/scanpy/tools/_rank_genes_groups.py:455: RuntimeWarning: invalid value encountered in log2\n",
      "  self.stats[group_name, \"logfoldchanges\"] = np.log2(\n",
      "/home/brandon/anaconda3/envs/scanpy/lib/python3.12/site-packages/scanpy/tools/_rank_genes_groups.py:455: RuntimeWarning: invalid value encountered in log2\n",
      "  self.stats[group_name, \"logfoldchanges\"] = np.log2(\n",
      "/home/brandon/anaconda3/envs/scanpy/lib/python3.12/site-packages/scanpy/tools/_rank_genes_groups.py:455: RuntimeWarning: invalid value encountered in log2\n",
      "  self.stats[group_name, \"logfoldchanges\"] = np.log2(\n"
     ]
    }
   ],
   "source": [
    "sc.tl.rank_genes_groups(res_fb, groupby='leiden', method=\"wilcoxon\", corr_method='bonferroni')\n",
    "#sc.tl.filter_rank_genes_groups(res_fb, groupby='leiden', min_fold_change=1, compare_abs=True, min_in_group_fraction=0.25)"
   ]
  },
  {
   "cell_type": "code",
   "execution_count": 151,
   "id": "fc6ab3f8-f904-4a32-9cba-4997101aef01",
   "metadata": {},
   "outputs": [
    {
     "ename": "TypeError",
     "evalue": "'NoneType' object is not subscriptable",
     "output_type": "error",
     "traceback": [
      "\u001b[0;31m---------------------------------------------------------------------------\u001b[0m",
      "\u001b[0;31mTypeError\u001b[0m                                 Traceback (most recent call last)",
      "Cell \u001b[0;32mIn[151], line 1\u001b[0m\n\u001b[0;32m----> 1\u001b[0m \u001b[43msc\u001b[49m\u001b[38;5;241;43m.\u001b[39;49m\u001b[43mtl\u001b[49m\u001b[38;5;241;43m.\u001b[39;49m\u001b[43mfilter_rank_genes_groups\u001b[49m\u001b[43m(\u001b[49m\u001b[43mres_fb\u001b[49m\u001b[43m,\u001b[49m\u001b[43m \u001b[49m\u001b[43mgroupby\u001b[49m\u001b[38;5;241;43m=\u001b[39;49m\u001b[38;5;124;43m'\u001b[39;49m\u001b[38;5;124;43mleiden\u001b[39;49m\u001b[38;5;124;43m'\u001b[39;49m\u001b[43m,\u001b[49m\u001b[43m \u001b[49m\u001b[43muse_raw\u001b[49m\u001b[38;5;241;43m=\u001b[39;49m\u001b[38;5;28;43;01mTrue\u001b[39;49;00m\u001b[43m,\u001b[49m\u001b[43m \u001b[49m\u001b[43mmin_fold_change\u001b[49m\u001b[38;5;241;43m=\u001b[39;49m\u001b[38;5;241;43m0\u001b[39;49m\u001b[43m,\u001b[49m\u001b[43m \u001b[49m\u001b[43mcompare_abs\u001b[49m\u001b[38;5;241;43m=\u001b[39;49m\u001b[38;5;28;43;01mTrue\u001b[39;49;00m\u001b[43m,\u001b[49m\u001b[43m \u001b[49m\u001b[43mmin_in_group_fraction\u001b[49m\u001b[38;5;241;43m=\u001b[39;49m\u001b[38;5;241;43m0.25\u001b[39;49m\u001b[43m)\u001b[49m\n",
      "File \u001b[0;32m~/anaconda3/envs/scanpy/lib/python3.12/site-packages/legacy_api_wrap/__init__.py:80\u001b[0m, in \u001b[0;36mlegacy_api.<locals>.wrapper.<locals>.fn_compatible\u001b[0;34m(*args_all, **kw)\u001b[0m\n\u001b[1;32m     77\u001b[0m \u001b[38;5;129m@wraps\u001b[39m(fn)\n\u001b[1;32m     78\u001b[0m \u001b[38;5;28;01mdef\u001b[39;00m \u001b[38;5;21mfn_compatible\u001b[39m(\u001b[38;5;241m*\u001b[39margs_all: P\u001b[38;5;241m.\u001b[39margs, \u001b[38;5;241m*\u001b[39m\u001b[38;5;241m*\u001b[39mkw: P\u001b[38;5;241m.\u001b[39mkwargs) \u001b[38;5;241m-\u001b[39m\u001b[38;5;241m>\u001b[39m R:\n\u001b[1;32m     79\u001b[0m     \u001b[38;5;28;01mif\u001b[39;00m \u001b[38;5;28mlen\u001b[39m(args_all) \u001b[38;5;241m<\u001b[39m\u001b[38;5;241m=\u001b[39m n_positional:\n\u001b[0;32m---> 80\u001b[0m         \u001b[38;5;28;01mreturn\u001b[39;00m \u001b[43mfn\u001b[49m\u001b[43m(\u001b[49m\u001b[38;5;241;43m*\u001b[39;49m\u001b[43margs_all\u001b[49m\u001b[43m,\u001b[49m\u001b[43m \u001b[49m\u001b[38;5;241;43m*\u001b[39;49m\u001b[38;5;241;43m*\u001b[39;49m\u001b[43mkw\u001b[49m\u001b[43m)\u001b[49m\n\u001b[1;32m     82\u001b[0m     args_pos: P\u001b[38;5;241m.\u001b[39margs\n\u001b[1;32m     83\u001b[0m     args_pos, args_rest \u001b[38;5;241m=\u001b[39m args_all[:n_positional], args_all[n_positional:]\n",
      "File \u001b[0;32m~/anaconda3/envs/scanpy/lib/python3.12/site-packages/scanpy/tools/_rank_genes_groups.py:859\u001b[0m, in \u001b[0;36mfilter_rank_genes_groups\u001b[0;34m(adata, key, groupby, use_raw, key_added, min_in_group_fraction, min_fold_change, max_out_group_fraction, compare_abs)\u001b[0m\n\u001b[1;32m    856\u001b[0m var_names \u001b[38;5;241m=\u001b[39m gene_names[cluster]\u001b[38;5;241m.\u001b[39mvalues\n\u001b[1;32m    858\u001b[0m \u001b[38;5;28;01mif\u001b[39;00m \u001b[38;5;129;01mnot\u001b[39;00m use_logfolds \u001b[38;5;129;01mor\u001b[39;00m \u001b[38;5;129;01mnot\u001b[39;00m use_fraction:\n\u001b[0;32m--> 859\u001b[0m     sub_X \u001b[38;5;241m=\u001b[39m \u001b[43madata\u001b[49m\u001b[38;5;241;43m.\u001b[39;49m\u001b[43mraw\u001b[49m\u001b[43m[\u001b[49m\u001b[43m:\u001b[49m\u001b[43m,\u001b[49m\u001b[43m \u001b[49m\u001b[43mvar_names\u001b[49m\u001b[43m]\u001b[49m\u001b[38;5;241m.\u001b[39mX \u001b[38;5;28;01mif\u001b[39;00m use_raw \u001b[38;5;28;01melse\u001b[39;00m adata[:, var_names]\u001b[38;5;241m.\u001b[39mX\n\u001b[1;32m    860\u001b[0m     in_group \u001b[38;5;241m=\u001b[39m adata\u001b[38;5;241m.\u001b[39mobs[groupby] \u001b[38;5;241m==\u001b[39m cluster\n\u001b[1;32m    861\u001b[0m     X_in \u001b[38;5;241m=\u001b[39m sub_X[in_group]\n",
      "\u001b[0;31mTypeError\u001b[0m: 'NoneType' object is not subscriptable"
     ]
    }
   ],
   "source": [
    "sc.tl.filter_rank_genes_groups(res_fb, groupby='leiden', min_fold_change=0, compare_abs=True, min_in_group_fraction=0.25)"
   ]
  },
  {
   "cell_type": "code",
   "execution_count": 155,
   "id": "1ff595c2-9e6e-4136-99e4-6e7eb1704f06",
   "metadata": {},
   "outputs": [
    {
     "name": "stdout",
     "output_type": "stream",
     "text": [
      "WARNING: dendrogram data not found (using key=dendrogram_leiden). Running `sc.tl.dendrogram` with default parameters. For fine tuning it is recommended to run `sc.tl.dendrogram` independently.\n"
     ]
    }
   ],
   "source": [
    "sc.pl.rank_genes_groups_heatmap(\n",
    "    res_fb, groupby='leiden', n_genes=10, key='rank_genes_groups', vmin=0, vmax=30, show_gene_labels=True)"
   ]
  },
  {
   "cell_type": "code",
   "execution_count": 106,
   "id": "9a95d5f7-dceb-4132-8ada-191f85a66a3a",
   "metadata": {},
   "outputs": [
    {
     "data": {
      "text/plain": [
       "-6.922497"
      ]
     },
     "execution_count": 106,
     "metadata": {},
     "output_type": "execute_result"
    }
   ],
   "source": [
    "np.min(res_fb.X)"
   ]
  },
  {
   "cell_type": "code",
   "execution_count": 124,
   "id": "5b04b5e0-ce05-4b56-9999-09500b94e47e",
   "metadata": {},
   "outputs": [],
   "source": [
    "# parameters for ap bins\n",
    "n_y_bins = 5\n",
    "ys = np.array(fb.obs['new_y'])\n",
    "y_bins = np.linspace(np.min(ys), np.max(ys), n_y_bins)\n",
    "binned_ys = bin_aps(ys, y_bins)\n",
    "\n",
    "res_fb.obs['binned_y'] = binned_ys"
   ]
  },
  {
   "cell_type": "code",
   "execution_count": 125,
   "id": "9ffbfa58-d776-4558-bff1-f02eab9f159a",
   "metadata": {},
   "outputs": [],
   "source": [
    "sc.pl.umap(res_fb, color='binned_y')"
   ]
  },
  {
   "cell_type": "code",
   "execution_count": 55,
   "id": "b6d199d7-6f1e-42ed-9c97-23f9535fb7d5",
   "metadata": {},
   "outputs": [],
   "source": [
    "sc.pl.umap(res_fb, color=[\"DptA\"], vmin=0, vmax=10)"
   ]
  },
  {
   "cell_type": "markdown",
   "id": "d1a437f2-e866-4671-a3f7-75b246cf1b5b",
   "metadata": {},
   "source": [
    "## Differentially expressed genes as markers, from pearson residuals"
   ]
  },
  {
   "cell_type": "code",
   "execution_count": 78,
   "id": "893beb7d-43c4-43b2-b2e8-e96c85c4ebeb",
   "metadata": {},
   "outputs": [],
   "source": [
    "res = 0.05\n",
    "sc.tl.leiden(\n",
    "        res_fb, key_added=f\"leiden_res_{res:4.2f}\", resolution=res, flavor=\"igraph\"\n",
    "    )"
   ]
  },
  {
   "cell_type": "code",
   "execution_count": 79,
   "id": "4cbcde7f-186a-48d9-b956-135273208863",
   "metadata": {},
   "outputs": [],
   "source": [
    "sc.pl.umap(res_fb, color=f\"leiden_res_{res:4.2f}\")"
   ]
  },
  {
   "cell_type": "code",
   "execution_count": 82,
   "id": "fe06cd3f-6734-4a9b-8f7f-aac8f395cda2",
   "metadata": {},
   "outputs": [
    {
     "name": "stderr",
     "output_type": "stream",
     "text": [
      "/home/brandon/anaconda3/envs/scanpy/lib/python3.12/site-packages/scanpy/tools/_rank_genes_groups.py:455: RuntimeWarning: invalid value encountered in log2\n",
      "  self.stats[group_name, \"logfoldchanges\"] = np.log2(\n",
      "/home/brandon/anaconda3/envs/scanpy/lib/python3.12/site-packages/scanpy/tools/_rank_genes_groups.py:455: RuntimeWarning: invalid value encountered in log2\n",
      "  self.stats[group_name, \"logfoldchanges\"] = np.log2(\n",
      "/home/brandon/anaconda3/envs/scanpy/lib/python3.12/site-packages/scanpy/tools/_rank_genes_groups.py:455: RuntimeWarning: invalid value encountered in log2\n",
      "  self.stats[group_name, \"logfoldchanges\"] = np.log2(\n"
     ]
    }
   ],
   "source": [
    "sc.tl.rank_genes_groups(res_fb, groupby=\"leiden_res_0.02\", method=\"wilcoxon\")"
   ]
  },
  {
   "cell_type": "code",
   "execution_count": 83,
   "id": "92e48b64-6abc-4154-9120-159e6d4b1444",
   "metadata": {
    "scrolled": true
   },
   "outputs": [
    {
     "name": "stdout",
     "output_type": "stream",
     "text": [
      "WARNING: dendrogram data not found (using key=dendrogram_leiden_res_0.05). Running `sc.tl.dendrogram` with default parameters. For fine tuning it is recommended to run `sc.tl.dendrogram` independently.\n",
      "WARNING: Groups are not reordered because the `groupby` categories and the `var_group_labels` are different.\n",
      "categories: 0, 1, 2, etc.\n",
      "var_group_labels: 0, 1, 2\n"
     ]
    }
   ],
   "source": [
    "sc.pl.rank_genes_groups_dotplot(\n",
    "    res_fb, groupby=\"leiden_res_0.05\", standard_scale=\"var\", n_genes=5\n",
    ")"
   ]
  },
  {
   "cell_type": "code",
   "execution_count": 85,
   "id": "d31ca803-fb7d-4ea2-8265-c90128150135",
   "metadata": {
    "scrolled": true
   },
   "outputs": [
    {
     "data": {
      "text/plain": [
       "AnnData object with n_obs × n_vars = 6628 × 6505\n",
       "    obs: 'slice_ID', 'raw_x', 'raw_y', 'new_x', 'new_y', 'new_z', 'annotation', 'leiden', 'binned_y', 'leiden_res_0.02', 'leiden_res_0.50', 'leiden_res_2.00', 'leiden_res_0.05'\n",
       "    uns: 'annotation_colors', 'pca', 'neighbors', 'umap', 'leiden', 'leiden_colors', 'leiden_res_0.02', 'leiden_res_0.02_colors', 'leiden_res_0.50', 'leiden_res_2.00', 'leiden_res_2.00_colors', 'leiden_res_0.50_colors', 'leiden_res_0.05', 'leiden_res_0.05_colors', 'rank_genes_groups', 'dendrogram_leiden_res_0.05'\n",
       "    obsm: 'X_umap', 'spatial', 'X_pca'\n",
       "    varm: 'PCs'\n",
       "    layers: 'raw_counts'\n",
       "    obsp: 'distances', 'connectivities'"
      ]
     },
     "execution_count": 85,
     "metadata": {},
     "output_type": "execute_result"
    }
   ],
   "source": [
    "res_fb"
   ]
  },
  {
   "cell_type": "markdown",
   "id": "7763b75b-c64d-40ab-978a-d3866b6b7ee4",
   "metadata": {},
   "source": [
    "## Scanpy's pearson residuals"
   ]
  },
  {
   "cell_type": "code",
   "execution_count": 230,
   "id": "5ef8c151-b557-41e1-a786-b46c52241e94",
   "metadata": {},
   "outputs": [],
   "source": [
    "# overwrite the layer you give it\n",
    "adata2 = adata[sel, filter_sel].copy()\n",
    "adata2.layers['log1p'] = adata2.X\n",
    "adata2.X = sc.experimental.pp.normalize_pearson_residuals(adata2, layer='raw_counts', theta=50, inplace=False)['X']"
   ]
  },
  {
   "cell_type": "code",
   "execution_count": 231,
   "id": "2a444bab-3af6-471c-90d2-1d7b8a07a2f9",
   "metadata": {},
   "outputs": [
    {
     "data": {
      "text/plain": [
       "AnnData object with n_obs × n_vars = 6628 × 6505\n",
       "    obs: 'slice_ID', 'raw_x', 'raw_y', 'new_x', 'new_y', 'new_z', 'annotation'\n",
       "    uns: 'annotation_colors'\n",
       "    obsm: 'X_umap', 'spatial'\n",
       "    layers: 'raw_counts', 'log1p'"
      ]
     },
     "execution_count": 231,
     "metadata": {},
     "output_type": "execute_result"
    }
   ],
   "source": [
    "adata2"
   ]
  },
  {
   "cell_type": "code",
   "execution_count": 221,
   "id": "8adcf935-cb18-47f7-9c10-a28ccb95b2de",
   "metadata": {},
   "outputs": [
    {
     "data": {
      "text/plain": [
       "Text(0, 0.5, 'var pearson residual')"
      ]
     },
     "execution_count": 221,
     "metadata": {},
     "output_type": "execute_result"
    }
   ],
   "source": [
    "plt.figure()\n",
    "plt.plot(np.nanmean(adata2.layers['raw_counts'], axis=0), np.nanvar(adata2.X, axis=0), 'ko', alpha=0.2)\n",
    "plt.xscale('log')\n",
    "plt.yscale('linear')\n",
    "plt.xlabel('mean count')\n",
    "plt.ylabel('var pearson residual')\n"
   ]
  },
  {
   "cell_type": "code",
   "execution_count": 232,
   "id": "84752dfa-3ae1-4876-97b5-fc6f2f1a8072",
   "metadata": {},
   "outputs": [],
   "source": [
    "sc.tl.pca(adata2)\n",
    "sc.pp.neighbors(adata2)\n",
    "sc.tl.umap(adata2)\n",
    "sc.tl.leiden(adata2, n_iterations=2, resolution=0.04, flavor='igraph')"
   ]
  },
  {
   "cell_type": "code",
   "execution_count": 239,
   "id": "bc4d8324-527a-4d54-b48a-d0a962e1d346",
   "metadata": {},
   "outputs": [],
   "source": [
    "sc.pl.umap(adata2, color='leiden')"
   ]
  },
  {
   "cell_type": "code",
   "execution_count": 242,
   "id": "f533d36c-700d-4fc8-acee-b223cfea94fb",
   "metadata": {},
   "outputs": [],
   "source": [
    "# parameters for ap bins\n",
    "n_y_bins = 5\n",
    "ys = np.array(adata2.obs['new_y'])\n",
    "y_bins = np.linspace(np.min(ys), np.max(ys), n_y_bins)\n",
    "binned_ys = bin_aps(ys, y_bins)\n",
    "\n",
    "adata2.obs['binned_y'] = [str(int(b)) for b in binned_ys]\n",
    "adata2.obs['binned_y'] = adata2.obs['binned_y'].astype('category')"
   ]
  },
  {
   "cell_type": "code",
   "execution_count": 235,
   "id": "3f0134b0-17bd-412a-9c58-0af7bef6ee11",
   "metadata": {},
   "outputs": [],
   "source": [
    "sc.pl.umap(adata2, color='binned_y')"
   ]
  },
  {
   "cell_type": "code",
   "execution_count": 248,
   "id": "d91c00a8-ec06-47ee-9474-5e7bb1950328",
   "metadata": {},
   "outputs": [],
   "source": [
    "sc.pl.umap(adata2, color='new_z')"
   ]
  },
  {
   "cell_type": "code",
   "execution_count": 236,
   "id": "7a209ceb-6ecc-4967-acb6-1e65558e4065",
   "metadata": {},
   "outputs": [],
   "source": [
    "sc.tl.rank_genes_groups(adata2, groupby='leiden', method=\"wilcoxon\", corr_method='bonferroni', layer='log1p')"
   ]
  },
  {
   "cell_type": "code",
   "execution_count": 189,
   "id": "b169f2f6-c5e7-4081-8da2-6148c0966aeb",
   "metadata": {},
   "outputs": [],
   "source": [
    "sc.tl.filter_rank_genes_groups(adata2, groupby='leiden', min_fold_change=1, min_in_group_fraction=0, max_out_group_fraction=1)"
   ]
  },
  {
   "cell_type": "code",
   "execution_count": 238,
   "id": "0b70410c-ed2c-4c18-b08b-9334247928ac",
   "metadata": {},
   "outputs": [],
   "source": [
    "sc.pl.rank_genes_groups_heatmap(\n",
    "    adata2, groupby='leiden', key='rank_genes_groups', vmin=0, vmax=30, show_gene_labels=True, min_logfoldchange=1)"
   ]
  },
  {
   "cell_type": "code",
   "execution_count": 244,
   "id": "ac0cb447-6357-49b8-a8ea-170f9bd57fff",
   "metadata": {},
   "outputs": [],
   "source": [
    "sc.tl.rank_genes_groups(adata2, groupby='binned_y', key_added='rank_genes_groups_y', method=\"wilcoxon\", corr_method='bonferroni', layer='log1p')"
   ]
  },
  {
   "cell_type": "code",
   "execution_count": 245,
   "id": "7d2cbe96-5e10-4ebd-9bdb-15d2a297c38e",
   "metadata": {},
   "outputs": [
    {
     "name": "stdout",
     "output_type": "stream",
     "text": [
      "WARNING: dendrogram data not found (using key=dendrogram_binned_y). Running `sc.tl.dendrogram` with default parameters. For fine tuning it is recommended to run `sc.tl.dendrogram` independently.\n"
     ]
    }
   ],
   "source": [
    "sc.pl.rank_genes_groups_heatmap(\n",
    "    adata2, groupby='binned_y', key='rank_genes_groups_y', vmin=0, vmax=30, show_gene_labels=True, min_logfoldchange=1)"
   ]
  },
  {
   "cell_type": "markdown",
   "id": "2dc48f40-627b-4793-ac23-9ecc9d7caaaf",
   "metadata": {},
   "source": [
    "## Revisiting DE analysis along AP using scanpy workflow"
   ]
  },
  {
   "cell_type": "code",
   "execution_count": 80,
   "id": "8feb7ec1-60b6-42b0-90cd-b3246566d638",
   "metadata": {},
   "outputs": [],
   "source": [
    "fb = adata[sel, filter_sel].copy()"
   ]
  },
  {
   "cell_type": "code",
   "execution_count": 69,
   "id": "90cea596-641d-4b67-a47f-7e3f129f825d",
   "metadata": {},
   "outputs": [],
   "source": [
    "ys = np.array(fb.obs['new_y'])\n",
    "y_bins = np.linspace(np.min(ys), np.max(ys), 5)\n",
    "# combine bin centers 2 and 3\n",
    "#y_bins = np.delete(y_bins, 3)\n",
    "binned_ys = bin_aps(ys, y_bins)\n",
    "fb.obs['binned_y'] = [str(int(b)) for b in binned_ys]\n",
    "fb.obs['binned_y'] = fb.obs['binned_y'].astype('category')\n",
    "y_bins = y_bins[1:]"
   ]
  },
  {
   "cell_type": "code",
   "execution_count": 70,
   "id": "d92d2b7a-bec2-45fb-8dbc-cbacc30f11d6",
   "metadata": {},
   "outputs": [
    {
     "data": {
      "text/plain": [
       "array([-87.6591625,   2.896425 ,  93.4520125, 184.0076   ])"
      ]
     },
     "execution_count": 70,
     "metadata": {},
     "output_type": "execute_result"
    }
   ],
   "source": [
    "y_bins"
   ]
  },
  {
   "cell_type": "code",
   "execution_count": 81,
   "id": "057a8a08-4e25-4707-967f-e07bbda5d113",
   "metadata": {},
   "outputs": [],
   "source": [
    "# create the neighbor matrix and umap\n",
    "sc.tl.pca(fb)\n",
    "sc.pp.neighbors(fb)\n",
    "sc.tl.umap(fb)"
   ]
  },
  {
   "cell_type": "code",
   "execution_count": 72,
   "id": "a27209b9-e9d0-4d68-bb05-a72eb89a4f8f",
   "metadata": {},
   "outputs": [],
   "source": [
    "sc.tl.rank_genes_groups(fb, groupby=\"binned_y\", method=\"wilcoxon\", corr_method='bonferroni')"
   ]
  },
  {
   "cell_type": "code",
   "execution_count": 73,
   "id": "a14486bd-ab0e-474e-bdb9-f152c5e197b6",
   "metadata": {},
   "outputs": [],
   "source": [
    "sc.tl.filter_rank_genes_groups(fb, groupby='binned_y', min_fold_change=1, compare_abs=True, min_in_group_fraction=0.25)"
   ]
  },
  {
   "cell_type": "code",
   "execution_count": 51,
   "id": "4dac78bf-704f-410e-99a9-e9ebf61f21dc",
   "metadata": {},
   "outputs": [],
   "source": [
    "sc.pl.umap(fb, color=\"binned_y\")"
   ]
  },
  {
   "cell_type": "code",
   "execution_count": 74,
   "id": "eed5aec7-4875-4d28-a3d0-e88cdbabe973",
   "metadata": {},
   "outputs": [
    {
     "name": "stdout",
     "output_type": "stream",
     "text": [
      "WARNING: dendrogram data not found (using key=dendrogram_binned_y). Running `sc.tl.dendrogram` with default parameters. For fine tuning it is recommended to run `sc.tl.dendrogram` independently.\n"
     ]
    }
   ],
   "source": [
    "sc.pl.rank_genes_groups_heatmap(\n",
    "    fb, groupby=\"binned_y\", n_genes=10, key='rank_genes_groups_filtered')"
   ]
  },
  {
   "cell_type": "code",
   "execution_count": 82,
   "id": "17787e7e-84a7-425b-b0b6-78a2b698e207",
   "metadata": {},
   "outputs": [],
   "source": [
    "res = 0.02\n",
    "sc.tl.leiden(\n",
    "        fb, key_added=f\"leiden_res_{res:4.2f}\", resolution=res, flavor=\"igraph\"\n",
    "    )"
   ]
  },
  {
   "cell_type": "code",
   "execution_count": 86,
   "id": "d984cef7-2fd0-4a41-be0d-6739d7ad4804",
   "metadata": {},
   "outputs": [
    {
     "data": {
      "text/plain": [
       "AnnData object with n_obs × n_vars = 6628 × 6505\n",
       "    obs: 'slice_ID', 'raw_x', 'raw_y', 'new_x', 'new_y', 'new_z', 'annotation', 'leiden_res_0.02'\n",
       "    uns: 'annotation_colors', 'pca', 'neighbors', 'umap', 'leiden_res_0.02'\n",
       "    obsm: 'X_umap', 'spatial', 'X_pca'\n",
       "    varm: 'PCs'\n",
       "    layers: 'raw_counts'\n",
       "    obsp: 'distances', 'connectivities'"
      ]
     },
     "execution_count": 86,
     "metadata": {},
     "output_type": "execute_result"
    }
   ],
   "source": [
    "fb"
   ]
  },
  {
   "cell_type": "code",
   "execution_count": 87,
   "id": "830ce48b-b54d-4080-9cb3-665da32cf289",
   "metadata": {},
   "outputs": [],
   "source": [
    "sc.tl.rank_genes_groups(fb, groupby=f\"leiden_res_{res:4.2f}\", method=\"wilcoxon\", corr_method='bonferroni')"
   ]
  },
  {
   "cell_type": "code",
   "execution_count": 88,
   "id": "41030dac-b34c-4d03-a21a-fcd9694a6330",
   "metadata": {},
   "outputs": [],
   "source": [
    "sc.tl.filter_rank_genes_groups(fb, groupby=f\"leiden_res_{res:4.2f}\", min_fold_change=1, compare_abs=True, min_in_group_fraction=0.25)"
   ]
  },
  {
   "cell_type": "code",
   "execution_count": 89,
   "id": "fd77c013-aab3-4d53-8783-b910876aef06",
   "metadata": {},
   "outputs": [
    {
     "name": "stdout",
     "output_type": "stream",
     "text": [
      "WARNING: dendrogram data not found (using key=dendrogram_leiden_res_0.02). Running `sc.tl.dendrogram` with default parameters. For fine tuning it is recommended to run `sc.tl.dendrogram` independently.\n"
     ]
    }
   ],
   "source": [
    "sc.pl.rank_genes_groups_heatmap(\n",
    "    fb, groupby=f\"leiden_res_{res:4.2f}\", n_genes=10, key='rank_genes_groups_filtered')"
   ]
  },
  {
   "cell_type": "code",
   "execution_count": 90,
   "id": "b1985d00-8dee-4c6e-84af-3b20320cdde9",
   "metadata": {},
   "outputs": [],
   "source": [
    "sc.pl.umap(fb, color=f\"leiden_res_{res:4.2f}\")"
   ]
  },
  {
   "cell_type": "code",
   "execution_count": null,
   "id": "4bed2f98-60c9-4315-9fa8-ca638e7417ed",
   "metadata": {},
   "outputs": [],
   "source": []
  },
  {
   "cell_type": "code",
   "execution_count": null,
   "id": "194a2ac0-63f5-4170-ab14-54dc2b36b4e1",
   "metadata": {},
   "outputs": [],
   "source": []
  },
  {
   "cell_type": "code",
   "execution_count": null,
   "id": "db6ebc5d-92c1-4874-9bbd-36d60589526d",
   "metadata": {},
   "outputs": [],
   "source": []
  },
  {
   "cell_type": "code",
   "execution_count": null,
   "id": "f47b6e8a-90d6-41c1-9d39-4a4b376712b1",
   "metadata": {},
   "outputs": [],
   "source": []
  },
  {
   "cell_type": "code",
   "execution_count": 249,
   "id": "97e62726-6432-40c7-809a-b953f39ae4d2",
   "metadata": {},
   "outputs": [],
   "source": [
    "import napari"
   ]
  },
  {
   "cell_type": "code",
   "execution_count": 253,
   "id": "4c622d60-cb57-4776-beec-579a97588ed5",
   "metadata": {},
   "outputs": [],
   "source": [
    "points = adata2.obsm['spatial']\n",
    "points[:, [0,2]] = points[:, [2,0]]"
   ]
  },
  {
   "cell_type": "code",
   "execution_count": 257,
   "id": "43718793-4062-447e-81a5-986c816a5046",
   "metadata": {},
   "outputs": [],
   "source": [
    "viewer = napari.Viewer()\n",
    "viewer.add_points(points, size=2)\n",
    "viewer.layers[0].scale = (2.5, 1, 1)"
   ]
  },
  {
   "cell_type": "code",
   "execution_count": 269,
   "id": "ab5a0a5d-31aa-4f63-a04a-4032b17bab6a",
   "metadata": {},
   "outputs": [],
   "source": [
    "viewer.layers[0].scale = (2.5, 1, 1)"
   ]
  },
  {
   "cell_type": "code",
   "execution_count": 263,
   "id": "79bf53fe-531e-4716-b733-d76094cc63c3",
   "metadata": {},
   "outputs": [
    {
     "data": {
      "text/plain": [
       "L3_b_S01_5700x86600      L3_b_S01\n",
       "L3_b_S01_5850x86600      L3_b_S01\n",
       "L3_b_S01_5900x86600      L3_b_S01\n",
       "L3_b_S01_5900x86700      L3_b_S01\n",
       "L3_b_S01_5950x86450      L3_b_S01\n",
       "                           ...   \n",
       "L3_b_S16_17800x115800    L3_b_S16\n",
       "L3_b_S16_17800x115850    L3_b_S16\n",
       "L3_b_S16_17850x115700    L3_b_S16\n",
       "L3_b_S16_17850x115750    L3_b_S16\n",
       "L3_b_S16_17850x115850    L3_b_S16\n",
       "Name: slice_ID, Length: 6628, dtype: category\n",
       "Categories (16, object): ['L3_b_S01', 'L3_b_S02', 'L3_b_S03', 'L3_b_S04', ..., 'L3_b_S13', 'L3_b_S14', 'L3_b_S15', 'L3_b_S16']"
      ]
     },
     "execution_count": 263,
     "metadata": {},
     "output_type": "execute_result"
    }
   ],
   "source": [
    "adata2.obs['slice_ID']"
   ]
  },
  {
   "cell_type": "code",
   "execution_count": 267,
   "id": "d1e14b36-f1cd-49a1-b3e6-4917b41f7c4a",
   "metadata": {},
   "outputs": [
    {
     "data": {
      "text/plain": [
       "0.7"
      ]
     },
     "execution_count": 267,
     "metadata": {},
     "output_type": "execute_result"
    }
   ],
   "source": [
    "np.min(points[:, 0])"
   ]
  },
  {
   "cell_type": "code",
   "execution_count": 273,
   "id": "c045f90a-11ae-4cd1-9587-cfbe413171d6",
   "metadata": {},
   "outputs": [],
   "source": [
    "import pandas as pd"
   ]
  },
  {
   "cell_type": "code",
   "execution_count": 276,
   "id": "5de38d26-ed77-443c-b4d1-1eb278c22791",
   "metadata": {},
   "outputs": [],
   "source": [
    "points_df = pd.DataFrame({'z': points[:,0], 'y': points[:,1], 'x':points[:,2], 'cluster':adata2.obs['leiden'].values})"
   ]
  },
  {
   "cell_type": "code",
   "execution_count": 281,
   "id": "f8528bfc-1fee-4282-ac8c-ad2708fd79ac",
   "metadata": {},
   "outputs": [],
   "source": [
    "for p in points_df.cluster.unique():\n",
    "    these_points = points_df[points_df.cluster == p].get(['z', 'y', 'x']).values\n",
    "    viewer.add_points(these_points, size=2)"
   ]
  },
  {
   "cell_type": "code",
   "execution_count": 283,
   "id": "a8fda5f0-7efa-4cca-9192-e31a80b106b2",
   "metadata": {},
   "outputs": [],
   "source": [
    "for layer in viewer.layers:\n",
    "   layer.scale = (5, 1, 1)"
   ]
  },
  {
   "cell_type": "code",
   "execution_count": null,
   "id": "5d09afe4-578e-4b13-a53d-33c4ea4307e9",
   "metadata": {},
   "outputs": [],
   "source": []
  },
  {
   "cell_type": "code",
   "execution_count": null,
   "id": "f057b108-d783-4078-a0c1-471b6db408f8",
   "metadata": {},
   "outputs": [],
   "source": []
  }
 ],
 "metadata": {
  "kernelspec": {
   "display_name": "Python (scanpy)",
   "language": "python",
   "name": "scanpy"
  },
  "language_info": {
   "codemirror_mode": {
    "name": "ipython",
    "version": 3
   },
   "file_extension": ".py",
   "mimetype": "text/x-python",
   "name": "python",
   "nbconvert_exporter": "python",
   "pygments_lexer": "ipython3",
   "version": "3.12.3"
  }
 },
 "nbformat": 4,
 "nbformat_minor": 5
}
